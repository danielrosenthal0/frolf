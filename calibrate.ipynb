{
 "cells": [
  {
   "cell_type": "code",
   "execution_count": 12,
   "metadata": {},
   "outputs": [
    {
     "ename": "TypeError",
     "evalue": "object of type 'NoneType' has no len()",
     "output_type": "error",
     "traceback": [
      "\u001b[0;31m---------------------------------------------------------------------------\u001b[0m",
      "\u001b[0;31mTypeError\u001b[0m                                 Traceback (most recent call last)",
      "\u001b[1;32m/Users/danielrosenthal/Documents/GitHub/frolf/calibrate.ipynb Cell 1\u001b[0m in \u001b[0;36m<cell line: 19>\u001b[0;34m()\u001b[0m\n\u001b[1;32m     <a href='vscode-notebook-cell:/Users/danielrosenthal/Documents/GitHub/frolf/calibrate.ipynb#W0sZmlsZQ%3D%3D?line=16'>17</a>\u001b[0m cv2\u001b[39m.\u001b[39mimshow(\u001b[39m'\u001b[39m\u001b[39mgray\u001b[39m\u001b[39m'\u001b[39m,gray)\n\u001b[1;32m     <a href='vscode-notebook-cell:/Users/danielrosenthal/Documents/GitHub/frolf/calibrate.ipynb#W0sZmlsZQ%3D%3D?line=17'>18</a>\u001b[0m ret, corners \u001b[39m=\u001b[39m cv2\u001b[39m.\u001b[39mfindChessboardCorners(gray, checkerboard_size, \u001b[39mNone\u001b[39;00m)\n\u001b[0;32m---> <a href='vscode-notebook-cell:/Users/danielrosenthal/Documents/GitHub/frolf/calibrate.ipynb#W0sZmlsZQ%3D%3D?line=18'>19</a>\u001b[0m \u001b[39mprint\u001b[39m(\u001b[39m\"\u001b[39m\u001b[39mNumber of corners detected:\u001b[39m\u001b[39m\"\u001b[39m, \u001b[39mlen\u001b[39;49m(corners))\n\u001b[1;32m     <a href='vscode-notebook-cell:/Users/danielrosenthal/Documents/GitHub/frolf/calibrate.ipynb#W0sZmlsZQ%3D%3D?line=20'>21</a>\u001b[0m \u001b[39mif\u001b[39;00m ret:\n\u001b[1;32m     <a href='vscode-notebook-cell:/Users/danielrosenthal/Documents/GitHub/frolf/calibrate.ipynb#W0sZmlsZQ%3D%3D?line=21'>22</a>\u001b[0m     \u001b[39m#draw corners\u001b[39;00m\n\u001b[1;32m     <a href='vscode-notebook-cell:/Users/danielrosenthal/Documents/GitHub/frolf/calibrate.ipynb#W0sZmlsZQ%3D%3D?line=22'>23</a>\u001b[0m     cv2\u001b[39m.\u001b[39mdrawChessboardCorners(img, checkerboard_size, corners, ret)\n",
      "\u001b[0;31mTypeError\u001b[0m: object of type 'NoneType' has no len()"
     ]
    }
   ],
   "source": [
    "import cv2\n",
    "import numpy as np\n",
    "\n",
    "#number of squares in checkerboard, rows, columns\n",
    "checkerboard_size = (9,13)\n",
    "#size of each black square\n",
    "square_size = 0.106 #meters\n",
    "\n",
    "#importing image\n",
    "img = cv2.imread('/Users/danielrosenthal/Documents/EGR_314/calibrate.png')\n",
    "\n",
    "#list to store corners\n",
    "object_points = []\n",
    "image_points = []\n",
    "\n",
    "gray = cv2.cvtColor(img, cv2.COLOR_BGR2GRAY)\n",
    "cv2.imshow('gray',gray)\n",
    "ret, corners = cv2.findChessboardCorners(gray, checkerboard_size, None)\n",
    "print(\"Number of corners detected:\", len(corners))\n",
    "\n",
    "if ret:\n",
    "    #draw corners\n",
    "    cv2.drawChessboardCorners(img, checkerboard_size, corners, ret)\n",
    "\n",
    "    object_points.append(np.zeros((checkerboard_size[0] * checkerboard_size[1], 3), np.float32))\n",
    "    object_points[-1][:,:2] = np.mgrid[0:checkerboard_size[0],0:checkerboard_size[1]].T.reshape(-1,2) * square_size\n",
    "    image_points.append(corners)\n",
    "\n",
    "    ret, mtx, dist, rvecs, tvecs = cv2.calibrateCamera(object_points, image_points, gray.shape[::-1], None, None)\n",
    "    print(mtx)\n",
    "    undistorted_img = cv2.undistort(img, mtx, dist, None, mtx)\n",
    "\n",
    "    side_by_side = np.hstack((img, undistorted_img))\n",
    "    cv2.imshow('Original and Undistorted Images', side_by_side)\n",
    "    cv2.waitKey(0)\n",
    "\n",
    "else:\n",
    "    print(\"Error: chessboard corners not found in image\")\n"
   ]
  }
 ],
 "metadata": {
  "kernelspec": {
   "display_name": "Python 3",
   "language": "python",
   "name": "python3"
  },
  "language_info": {
   "codemirror_mode": {
    "name": "ipython",
    "version": 3
   },
   "file_extension": ".py",
   "mimetype": "text/x-python",
   "name": "python",
   "nbconvert_exporter": "python",
   "pygments_lexer": "ipython3",
   "version": "3.10.5"
  },
  "orig_nbformat": 4,
  "vscode": {
   "interpreter": {
    "hash": "aee8b7b246df8f9039afb4144a1f6fd8d2ca17a180786b69acc140d282b71a49"
   }
  }
 },
 "nbformat": 4,
 "nbformat_minor": 2
}
