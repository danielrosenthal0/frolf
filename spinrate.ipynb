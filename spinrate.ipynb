{
 "cells": [
  {
   "cell_type": "code",
   "execution_count": 308,
   "metadata": {},
   "outputs": [
    {
     "data": {
      "text/plain": [
       "0"
      ]
     },
     "execution_count": 308,
     "metadata": {},
     "output_type": "execute_result"
    }
   ],
   "source": [
    "#import packages\n",
    "import numpy as np\n",
    "import pandas as pd\n",
    "import cv2\n",
    "import time\n",
    "import math\n",
    "cv2.startWindowThread()\n"
   ]
  },
  {
   "cell_type": "code",
   "execution_count": 309,
   "metadata": {},
   "outputs": [
    {
     "name": "stdout",
     "output_type": "stream",
     "text": [
      "119.88011988011988\n"
     ]
    }
   ],
   "source": [
    "#open video\n",
    "cap = cv2.VideoCapture('/Users/danielrosenthal/Documents/EGR_314/colorblock_trim.mp4')\n",
    "fps = cap.get(cv2.CAP_PROP_FPS) #get fps\n",
    "print(fps)\n",
    "if cap.isOpened() == False:\n",
    "    print(\"Cannot open video file.\")"
   ]
  },
  {
   "cell_type": "code",
   "execution_count": 310,
   "metadata": {},
   "outputs": [],
   "source": [
    "#saving output\n",
    "frame_width = int(cap.get(3))\n",
    "frame_height = int(cap.get(4))\n",
    "size = (frame_width, frame_height)\n"
   ]
  },
  {
   "cell_type": "code",
   "execution_count": 311,
   "metadata": {},
   "outputs": [],
   "source": [
    "#defining size for output videos\n",
    "output = cv2.VideoWriter('/Users/danielrosenthal/Documents/EGR_314/colorblock_output2.mp4', cv2.VideoWriter_fourcc(*'mp4v'), 20.0, (1920,1080))\n",
    "#output2 = cv2.VideoWriter('output2.mp4', cv2.VideoWriter_fourcc(*'MP4V'), 20.0, (1920,1080))"
   ]
  },
  {
   "cell_type": "code",
   "execution_count": 312,
   "metadata": {},
   "outputs": [],
   "source": [
    "#object detection parameters\n",
    "object_detector = cv2.createBackgroundSubtractorMOG2(history = 100, varThreshold= 90)"
   ]
  },
  {
   "cell_type": "code",
   "execution_count": 313,
   "metadata": {},
   "outputs": [],
   "source": [
    "#creating empty array\n",
    "# Create an empty DataFrame with columns for x and y velocities\n",
    "velocities = pd.DataFrame(columns=['x_velocity', 'y_velocity'])\n",
    "prev_x, prev_y = None, None\n",
    "prev_time = None\n"
   ]
  },
  {
   "cell_type": "code",
   "execution_count": 314,
   "metadata": {},
   "outputs": [],
   "source": [
    "#defining rgb range to detect orange for now\n",
    "lower_color_bound = np.array([0,100,178])\n",
    "upper_color_bound = np.array([255,255,255])\n",
    "\n",
    "blue_lower_bound = np.array([100,80,80])\n",
    "blue_upper_bound = np.array([170,255,255])\n",
    "\n",
    "yellow_lower_bound = np.array([30, 100, 100])\n",
    "yellow_upper_bound = np.array([80, 255, 255])"
   ]
  },
  {
   "cell_type": "code",
   "execution_count": 315,
   "metadata": {},
   "outputs": [],
   "source": [
    "#conversion factor, likely incorrect bc camera and setup need to be calibrated\n",
    "disc_length = 8.26 #disc length in inches\n",
    "distance = 36 #distance of disc from camera, rough guess\n",
    "\n",
    "#initializing\n",
    "conversion_rate = 0\n",
    "rect_coordinates = 0\n",
    "new_data = None\n",
    "counter = 0\n"
   ]
  },
  {
   "cell_type": "code",
   "execution_count": 316,
   "metadata": {},
   "outputs": [],
   "source": [
    "prev_frame = None\n",
    "curr_frame = None\n",
    "threshold = 500\n",
    "x = 0\n",
    "y = 0\n",
    "centers_and_labels = {}\n",
    "prev_centers_and_labels = {}\n",
    "distance_threshold = 50"
   ]
  },
  {
   "cell_type": "code",
   "execution_count": 317,
   "metadata": {},
   "outputs": [],
   "source": [
    "while True:\n",
    "    # Get current time\n",
    "    current_time = time.time()\n",
    "\n",
    "    ret, frame = cap.read()\n",
    "    if not ret:\n",
    "        break\n",
    "    \n",
    "    height, width, _ = frame.shape\n",
    "    \n",
    "    \n",
    "    #object detection\n",
    "    mask = object_detector.apply(frame)\n",
    "\n",
    "    #cleaning mask\n",
    "    _, mask = cv2.threshold(mask, 254, 255, cv2.THRESH_BINARY)\n",
    "    contours, _ = cv2.findContours(mask, cv2.RETR_TREE, cv2.CHAIN_APPROX_SIMPLE)\n",
    "\n",
    "\n",
    "    #trying rgb threshold\n",
    "    mask = cv2.cvtColor(frame,cv2.COLOR_BGR2HSV) \n",
    "    mask_blue = cv2.inRange(mask,blue_lower_bound,blue_upper_bound)\n",
    "    mask_yellow = cv2.inRange(mask,yellow_lower_bound, yellow_upper_bound)\n",
    "    \n",
    "    yellow_contours, _ = cv2.findContours(mask_yellow, cv2.RETR_EXTERNAL, cv2.CHAIN_APPROX_SIMPLE)\n",
    "    blue_contours, _ = cv2.findContours(mask_blue, cv2.RETR_TREE, cv2.CHAIN_APPROX_SIMPLE)\n",
    "    \n",
    "    large_contours = [cnt for cnt in blue_contours if cv2.contourArea(cnt) > threshold]\n",
    "    \n",
    "    mask_rgb = cv2.inRange(mask,lower_color_bound,upper_color_bound)\n",
    "    rgb_contours, _ = cv2.findContours(mask_rgb, cv2.RETR_TREE, cv2.CHAIN_APPROX_SIMPLE)\n",
    "       \n",
    "    contour_labels = []\n",
    "\n",
    "    longest_width = 0\n",
    "    for cnt in yellow_contours:\n",
    "        #calculate error, remove small elements\n",
    "        area = cv2.contourArea(cnt)\n",
    "        if area > 500:\n",
    "            cv2.drawContours(frame, [cnt], -1, (255,0,255), 2)\n",
    "            #drawing rectangle around detected objects\n",
    "            x, y, w, h = cv2.boundingRect(cnt)\n",
    "            if w > longest_width:\n",
    "                longest_width = w\n",
    "            #print(longest_width)\n",
    "            rect_coordinates = np.append(rect_coordinates,[x,y,w,h])\n",
    "            cv2.rectangle(frame, (x, y), (x + w, y + h), (255,0,255),3)\n",
    "                \n",
    "    \n",
    "            \n",
    "    if longest_width > 0:\n",
    "        conversion_rate = disc_length / longest_width\n",
    "    \n",
    "\n",
    "    # Check if previous position and time are available\n",
    "    if prev_x is not None and prev_y is not None and prev_time is not None:\n",
    "        # Calculate the distance traveled in the x and y directions\n",
    "        dx = x - prev_x\n",
    "        dy = y - prev_y\n",
    "\n",
    "        # Calculate the time interval\n",
    "        dt = current_time - prev_time\n",
    "\n",
    "        # Calculate the velocity in the x and y directions\n",
    "        vx = (dx / dt) \n",
    "        vy = (dy / dt)\n",
    "        \n",
    "        # Add the velocity values to the DataFrame\n",
    "        velocities = pd.concat([velocities, new_data])\n",
    "\n",
    "        vx_mph = vx * conversion_rate\n",
    "        vy_mph = vy * conversion_rate\n",
    "        velocity = np.linalg.norm([vx_mph, vy_mph])\n",
    "\n",
    "        # Display the velocity values on the output video\n",
    "        cv2.putText(frame, 'X Velocity: {:.2f} mph'.format(vx_mph), (10, 30), cv2.FONT_HERSHEY_SIMPLEX, 1, (255, 255, 255), 2)\n",
    "        cv2.putText(frame, 'Y Velocity: {:.2f} mph'.format(vy_mph), (10, 60), cv2.FONT_HERSHEY_SIMPLEX, 1, (255, 255, 255), 2)\n",
    "        cv2.putText(frame, 'True Velocity: {:.2f} mph'.format(velocity), (10, 90), cv2.FONT_HERSHEY_SIMPLEX, 1, (255, 255, 255), 2)\n",
    "\n",
    "        # create a new dataframe with the new velocities\n",
    "        new_data = pd.DataFrame({'x_velocity': [vx_mph], 'y_velocity': [vy_mph]})\n",
    "\n",
    "\n",
    "\n",
    "\n",
    "\n",
    "\n",
    "\n",
    "\n",
    "\n",
    "# everything below here is trying to calculate spin rate\n",
    "\n",
    "    # Find the center of each contour\n",
    "    centers = []\n",
    "    prev_center = None\n",
    "    for cnt in large_contours:\n",
    "        M = cv2.moments(cnt)\n",
    "        cX = int(M[\"m10\"] / M[\"m00\"])\n",
    "        cY = int(M[\"m01\"] / M[\"m00\"])\n",
    "        centers.append([cX, cY])\n",
    "        \n",
    "    # If there are no centers, break out of the loop\n",
    "    # if not centers:\n",
    "    #     break\n",
    "\n",
    "    # Assign labels to the centers in the current frame\n",
    "    if prev_centers_and_labels == {}:\n",
    "        # First frame, assign labels to all centers\n",
    "        for j in range(len(centers)):\n",
    "            centers_and_labels[j] = [centers[j], j + 1]\n",
    "    else:\n",
    "        # Not the first frame, assign labels based on previous centers\n",
    "        for j in range(len(centers)):\n",
    "            closest_center = None\n",
    "            closest_center_distance = float('inf')\n",
    "            closest_center_label = None\n",
    "            # Find the closest previous center\n",
    "            for center_index, previous_center_and_label in prev_centers_and_labels.items():\n",
    "                previous_center, previous_center_label = previous_center_and_label\n",
    "                distance = np.sqrt((previous_center[0] - centers[j][0]) ** 2 + (previous_center[1] - centers[j][1]) ** 2)\n",
    "                if distance < closest_center_distance:\n",
    "                    closest_center = previous_center\n",
    "                    closest_center_distance = distance\n",
    "                    closest_center_label = previous_center_label\n",
    "            # Assign the same label to the current center if it's close enough\n",
    "            if closest_center_distance < distance_threshold:\n",
    "                centers_and_labels[j] = [centers[j], closest_center_label]\n",
    "            else:\n",
    "                # If no close enough previous center was found, assign a new label\n",
    "                centers_and_labels[j] = [centers[j], max(prev_centers_and_labels.values(), key=lambda x: x[1])[1] + 1]\n",
    "\n",
    "    for i in range(len(large_contours)):\n",
    "        x, y, w, h = cv2.boundingRect(large_contours[i])\n",
    "        cv2.putText(frame, str(centers_and_labels[i][1]), (x, y-10), cv2.FONT_HERSHEY_SIMPLEX, 0.9, (255, 255, 0), 2)\n",
    "        # cv2.line(frame, tuple(centers_and_labels[i][1]), tuple(prev_centers_and_labels[i][0]), (255, 0, 0), 2)\n",
    "        cv2.drawContours(frame, [large_contours[i]], 0, (0, 255, 255), 2)\n",
    "        \n",
    "   \n",
    "    # Update the previous position and time variables\n",
    "    prev_x, prev_y = x, y\n",
    "    prev_time = current_time\n",
    "\n",
    "    cv2.imshow(\"frame\", frame)\n",
    "    # cv2.imshow(\"frame keypoints\", frame_keypoints)\n",
    "    #cv2.imshow(\"roi\", roi)\n",
    "    #cv2.imshow(\"Mask\", mask)\n",
    "    # cv2.imshow(\"mask yellow\",mask_yellow)\n",
    "    \n",
    "    output.write(frame)\n",
    "    #output2.write(mask)\n",
    "    if cv2.waitKey(120) & 0xFF == ord('q'):\n",
    "        break\n",
    "\n",
    "\n",
    "cap.release()\n",
    "output.release()\n",
    "#output2.release()\n",
    "cv2.destroyAllWindows()"
   ]
  },
  {
   "cell_type": "code",
   "execution_count": 318,
   "metadata": {},
   "outputs": [
    {
     "name": "stdout",
     "output_type": "stream",
     "text": [
      "   x_velocity  y_velocity\n",
      "0    0.000000    0.000000\n",
      "0    0.000000    0.000000\n",
      "0    0.000000    0.000000\n",
      "0    0.000000    0.000000\n",
      "0    0.000000    0.000000\n",
      "0    0.000000    0.000000\n",
      "0    0.000000    0.000000\n",
      "0    0.000000    0.000000\n",
      "0    0.000000    0.000000\n",
      "0    0.000000    0.000000\n",
      "0    0.000000  444.721670\n",
      "0    2.897137   -0.724284\n",
      "0   35.932844  -11.056260\n",
      "0   30.167933   -8.379981\n",
      "0   23.127696   -6.802263\n",
      "0   20.775154   -5.770876\n",
      "0   22.909330   -4.749495\n",
      "0   21.314204   -5.074810\n",
      "0   23.034379   -9.161401\n",
      "0    3.343535   -7.164717\n",
      "0    4.651946   -4.651946\n",
      "0    9.595890   -4.545422\n",
      "0   15.814965   -4.447959\n",
      "0   18.745551   -4.271138\n",
      "0   21.017918   -4.154705\n",
      "0   19.653739   -6.785219\n",
      "0   -0.921122   -8.980940\n",
      "0   -0.836648   -5.019885\n",
      "0    3.653529   -5.219327\n",
      "0   28.837551   -7.864787\n"
     ]
    }
   ],
   "source": [
    "velocities.to_csv(\"velocities.csv\", index=False)\n",
    "print(velocities)"
   ]
  }
 ],
 "metadata": {
  "kernelspec": {
   "display_name": "Python 3.10.5 64-bit",
   "language": "python",
   "name": "python3"
  },
  "language_info": {
   "codemirror_mode": {
    "name": "ipython",
    "version": 3
   },
   "file_extension": ".py",
   "mimetype": "text/x-python",
   "name": "python",
   "nbconvert_exporter": "python",
   "pygments_lexer": "ipython3",
   "version": "3.10.5"
  },
  "orig_nbformat": 4,
  "vscode": {
   "interpreter": {
    "hash": "aee8b7b246df8f9039afb4144a1f6fd8d2ca17a180786b69acc140d282b71a49"
   }
  }
 },
 "nbformat": 4,
 "nbformat_minor": 2
}
