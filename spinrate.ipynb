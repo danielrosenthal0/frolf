{
 "cells": [
  {
   "cell_type": "code",
   "execution_count": 395,
   "metadata": {},
   "outputs": [
    {
     "data": {
      "text/plain": [
       "0"
      ]
     },
     "execution_count": 395,
     "metadata": {},
     "output_type": "execute_result"
    }
   ],
   "source": [
    "#import packages\n",
    "import numpy as np\n",
    "import pandas as pd\n",
    "import cv2\n",
    "import time\n",
    "import math\n",
    "cv2.startWindowThread()\n"
   ]
  },
  {
   "cell_type": "code",
   "execution_count": 396,
   "metadata": {},
   "outputs": [
    {
     "name": "stdout",
     "output_type": "stream",
     "text": [
      "119.88011988011988\n"
     ]
    }
   ],
   "source": [
    "#open video\n",
    "cap = cv2.VideoCapture('/Users/danielrosenthal/Documents/EGR_314/1080_120_1000_trim.mp4')\n",
    "fps = cap.get(cv2.CAP_PROP_FPS) #get fps\n",
    "print(fps)\n",
    "if cap.isOpened() == False:\n",
    "    print(\"Cannot open video file.\")"
   ]
  },
  {
   "cell_type": "code",
   "execution_count": 397,
   "metadata": {},
   "outputs": [],
   "source": [
    "#saving output\n",
    "frame_width = int(cap.get(3))\n",
    "frame_height = int(cap.get(4))\n",
    "size = (frame_width, frame_height)\n"
   ]
  },
  {
   "cell_type": "code",
   "execution_count": 398,
   "metadata": {},
   "outputs": [],
   "source": [
    "#defining size for output videos\n",
    "output = cv2.VideoWriter('/Users/danielrosenthal/Documents/EGR_314/colorblock_output2.mp4', cv2.VideoWriter_fourcc(*'mp4v'), 20.0, (1920,1080))\n",
    "#output2 = cv2.VideoWriter('output2.mp4', cv2.VideoWriter_fourcc(*'MP4V'), 20.0, (1920,1080))"
   ]
  },
  {
   "cell_type": "code",
   "execution_count": 399,
   "metadata": {},
   "outputs": [],
   "source": [
    "#object detection parameters\n",
    "object_detector = cv2.createBackgroundSubtractorMOG2(history = 100, varThreshold= 90)"
   ]
  },
  {
   "cell_type": "code",
   "execution_count": 400,
   "metadata": {},
   "outputs": [],
   "source": [
    "#creating empty array\n",
    "# Create an empty DataFrame with columns for x and y velocities\n",
    "velocities = pd.DataFrame(columns=['x_velocity', 'y_velocity'])\n",
    "\n"
   ]
  },
  {
   "cell_type": "code",
   "execution_count": 401,
   "metadata": {},
   "outputs": [],
   "source": [
    "#defining rgb range to detect orange for now\n",
    "orange_lower_bound = np.array([0,70,188])\n",
    "orange_upper_bound = np.array([30,255,255])\n",
    "\n",
    "blue_lower_bound = np.array([100,80,80])\n",
    "blue_upper_bound = np.array([170,255,255])\n",
    "\n",
    "yellow_lower_bound = np.array([30, 100, 100])\n",
    "yellow_upper_bound = np.array([80, 255, 255])"
   ]
  },
  {
   "cell_type": "code",
   "execution_count": 402,
   "metadata": {},
   "outputs": [],
   "source": [
    "#conversion factor, likely incorrect bc camera and setup need to be calibrated\n",
    "disc_length = 8.26 #disc length in inches\n",
    "distance = 36 #distance of disc from camera, rough guess\n",
    "\n",
    "\n"
   ]
  },
  {
   "cell_type": "code",
   "execution_count": 403,
   "metadata": {},
   "outputs": [],
   "source": [
    "#initializing\n",
    "conversion_rate = 0\n",
    "rect_coordinates = 0\n",
    "new_data = None\n",
    "counter = 0\n",
    "prev_frame = None\n",
    "curr_frame = None\n",
    "threshold = 500\n",
    "x = 0\n",
    "y = 0\n",
    "centers_and_labels = {}\n",
    "prev_centers_and_labels = {}\n",
    "distance_threshold = 50\n",
    "prev_blue_centers = []\n",
    "prev_orange_centers = []\n",
    "prev_x, prev_y = None, None\n",
    "prev_time = None\n",
    "time_interval = 1/fps\n",
    "avg_rpm_blue = 0\n",
    "avg_rpm_orange = 0"
   ]
  },
  {
   "cell_type": "code",
   "execution_count": 404,
   "metadata": {},
   "outputs": [
    {
     "name": "stdout",
     "output_type": "stream",
     "text": [
      "Blue spin rate: -3.119050934735971 rps\n",
      "Blue spin rate: -3.7998611810740566 rps\n",
      "Blue spin rate: -5.385334337589926 rps\n",
      "Blue spin rate: -6.014143168897497 rps\n",
      "Blue spin rate: -6.6917186786229825 rps\n",
      "Blue spin rate: -5.677332991045561 rps\n",
      "Blue spin rate: -4.347401672925941 rps\n",
      "Blue spin rate: -1.9571736951858596 rps\n",
      "Blue spin rate: 0.5373090019584356 rps\n",
      "Blue spin rate: 2.027481902828896 rps\n",
      "Blue spin rate: 2.6758943425024286 rps\n",
      "Blue spin rate: 2.4746613290617736 rps\n",
      "Blue spin rate: 1.1666772043904288 rps\n",
      "Blue spin rate: 0.0 rps\n",
      "Blue spin rate: -1.679137885171799 rps\n",
      "Blue spin rate: -3.4657713328305215 rps\n",
      "Blue spin rate: -4.825095768859289 rps\n",
      "Blue spin rate: -5.926070237739054 rps\n",
      "Blue spin rate: -6.845169903291197 rps\n",
      "Blue spin rate: -6.4100985257015415 rps\n",
      "Blue spin rate: -5.309822144829455 rps\n",
      "Blue spin rate: -2.8061834903365543 rps\n"
     ]
    },
    {
     "ename": "ValueError",
     "evalue": "operands could not be broadcast together with shapes (0,) (1,2) ",
     "output_type": "error",
     "traceback": [
      "\u001b[0;31m---------------------------------------------------------------------------\u001b[0m",
      "\u001b[0;31mValueError\u001b[0m                                Traceback (most recent call last)",
      "\u001b[1;32m/Users/danielrosenthal/Documents/GitHub/frolf/spinrate.ipynb Cell 10\u001b[0m in \u001b[0;36m<cell line: 1>\u001b[0;34m()\u001b[0m\n\u001b[1;32m    <a href='vscode-notebook-cell:/Users/danielrosenthal/Documents/GitHub/frolf/spinrate.ipynb#X12sZmlsZQ%3D%3D?line=104'>105</a>\u001b[0m \u001b[39mif\u001b[39;00m prev_blue_centers \u001b[39mand\u001b[39;00m prev_orange_centers:\n\u001b[1;32m    <a href='vscode-notebook-cell:/Users/danielrosenthal/Documents/GitHub/frolf/spinrate.ipynb#X12sZmlsZQ%3D%3D?line=105'>106</a>\u001b[0m     \u001b[39m# Calculate the change in the positions of the centers\u001b[39;00m\n\u001b[1;32m    <a href='vscode-notebook-cell:/Users/danielrosenthal/Documents/GitHub/frolf/spinrate.ipynb#X12sZmlsZQ%3D%3D?line=106'>107</a>\u001b[0m     delta_blue_centers \u001b[39m=\u001b[39m np\u001b[39m.\u001b[39marray(blue_centers) \u001b[39m-\u001b[39m np\u001b[39m.\u001b[39marray(prev_blue_centers)\n\u001b[0;32m--> <a href='vscode-notebook-cell:/Users/danielrosenthal/Documents/GitHub/frolf/spinrate.ipynb#X12sZmlsZQ%3D%3D?line=107'>108</a>\u001b[0m     delta_orange_centers \u001b[39m=\u001b[39m np\u001b[39m.\u001b[39;49marray(orange_centers) \u001b[39m-\u001b[39;49m np\u001b[39m.\u001b[39;49marray(prev_orange_centers)\n\u001b[1;32m    <a href='vscode-notebook-cell:/Users/danielrosenthal/Documents/GitHub/frolf/spinrate.ipynb#X12sZmlsZQ%3D%3D?line=109'>110</a>\u001b[0m     \u001b[39m# Calculate the angular velocity of the disc in radians per second\u001b[39;00m\n\u001b[1;32m    <a href='vscode-notebook-cell:/Users/danielrosenthal/Documents/GitHub/frolf/spinrate.ipynb#X12sZmlsZQ%3D%3D?line=110'>111</a>\u001b[0m     spin_rate_blue \u001b[39m=\u001b[39m np\u001b[39m.\u001b[39marctan2(delta_blue_centers[:,\u001b[39m1\u001b[39m], delta_blue_centers[:,\u001b[39m0\u001b[39m]) \u001b[39m/\u001b[39m time_interval\n",
      "\u001b[0;31mValueError\u001b[0m: operands could not be broadcast together with shapes (0,) (1,2) "
     ]
    }
   ],
   "source": [
    "while True:\n",
    "    # Get current time\n",
    "    current_time = time.time()\n",
    "\n",
    "    ret, frame = cap.read()\n",
    "    if not ret:\n",
    "        break\n",
    "    \n",
    "    height, width, _ = frame.shape\n",
    "    \n",
    "    \n",
    "    #object detection\n",
    "    mask = object_detector.apply(frame)\n",
    "\n",
    "    #cleaning mask\n",
    "    _, mask = cv2.threshold(mask, 254, 255, cv2.THRESH_BINARY)\n",
    "    contours, _ = cv2.findContours(mask, cv2.RETR_TREE, cv2.CHAIN_APPROX_SIMPLE)\n",
    "\n",
    "\n",
    "    #trying rgb threshold\n",
    "    mask = cv2.cvtColor(frame,cv2.COLOR_BGR2HSV) \n",
    "    mask_blue = cv2.inRange(mask,blue_lower_bound,blue_upper_bound)\n",
    "    mask_yellow = cv2.inRange(mask,yellow_lower_bound, yellow_upper_bound)\n",
    "    mask_orange = cv2.inRange(mask,orange_lower_bound,orange_upper_bound)\n",
    "    \n",
    "    yellow_contours, _ = cv2.findContours(mask_yellow, cv2.RETR_EXTERNAL, cv2.CHAIN_APPROX_SIMPLE)\n",
    "    blue_contours, _ = cv2.findContours(mask_blue, cv2.RETR_TREE, cv2.CHAIN_APPROX_SIMPLE)\n",
    "    orange_contours, _ = cv2.findContours(mask_orange,cv2.RETR_TREE,cv2.CHAIN_APPROX_SIMPLE)\n",
    "    \n",
    "    blue_contours = [cnt for cnt in blue_contours if cv2.contourArea(cnt) > threshold]\n",
    "    orange_contours = [cnt for cnt in orange_contours if cv2.contourArea(cnt) > threshold]\n",
    "    \n",
    "    # mask_rgb = cv2.inRange(mask,lower_color_bound,upper_color_bound)\n",
    "    # rgb_contours, _ = cv2.findContours(mask_rgb, cv2.RETR_TREE, cv2.CHAIN_APPROX_SIMPLE)\n",
    "       \n",
    "    contour_labels = []\n",
    "\n",
    "    longest_width = 0\n",
    "    for cnt in yellow_contours:\n",
    "        #calculate error, remove small elements\n",
    "        area = cv2.contourArea(cnt)\n",
    "        if area > 500:\n",
    "            cv2.drawContours(frame, [cnt], -1, (255,0,255), 2)\n",
    "            #drawing rectangle around detected objects\n",
    "            x, y, w, h = cv2.boundingRect(cnt)\n",
    "            if w > longest_width:\n",
    "                longest_width = w\n",
    "            #print(longest_width)\n",
    "            rect_coordinates = np.append(rect_coordinates,[x,y,w,h])\n",
    "            cv2.rectangle(frame, (x, y), (x + w, y + h), (255,0,255),3)\n",
    "                \n",
    "    \n",
    "            \n",
    "    if longest_width > 0:\n",
    "        conversion_rate = disc_length / longest_width\n",
    "    \n",
    "\n",
    "    # Check if previous position and time are available\n",
    "    if prev_x is not None and prev_y is not None and prev_time is not None:\n",
    "        # Calculate the distance traveled in the x and y directions\n",
    "        dx = x - prev_x\n",
    "        dy = y - prev_y\n",
    "\n",
    "        # Calculate the time interval\n",
    "        dt = current_time - prev_time\n",
    "\n",
    "        # Calculate the velocity in the x and y directions\n",
    "        vx = (dx / dt) \n",
    "        vy = (dy / dt)\n",
    "        \n",
    "        # Add the velocity values to the DataFrame\n",
    "        velocities = pd.concat([velocities, new_data])\n",
    "\n",
    "        vx_mph = vx * conversion_rate\n",
    "        vy_mph = vy * conversion_rate\n",
    "        velocity = np.linalg.norm([vx_mph, vy_mph])\n",
    "\n",
    "        # Display the velocity values on the output video\n",
    "        cv2.putText(frame, 'X Velocity: {:.2f} mph'.format(vx_mph), (10, 30), cv2.FONT_HERSHEY_SIMPLEX, 1, (255, 255, 255), 2)\n",
    "        cv2.putText(frame, 'Y Velocity: {:.2f} mph'.format(vy_mph), (10, 60), cv2.FONT_HERSHEY_SIMPLEX, 1, (255, 255, 255), 2)\n",
    "        cv2.putText(frame, 'True Velocity: {:.2f} mph'.format(velocity), (10, 90), cv2.FONT_HERSHEY_SIMPLEX, 1, (255, 255, 255), 2)\n",
    "\n",
    "        # create a new dataframe with the new velocities\n",
    "        new_data = pd.DataFrame({'x_velocity': [vx_mph], 'y_velocity': [vy_mph]})\n",
    "\n",
    "\n",
    "# everything below here is trying to calculate spin rate\n",
    "\n",
    "    # Find the center of each contour\n",
    "    blue_centers = []\n",
    "    for cnt in blue_contours:\n",
    "        M = cv2.moments(cnt)\n",
    "        cX = int(M[\"m10\"] / M[\"m00\"])\n",
    "        cY = int(M[\"m01\"] / M[\"m00\"])\n",
    "        blue_centers.append([cX, cY])\n",
    "\n",
    "    orange_centers = []\n",
    "    for cnt in orange_contours:\n",
    "        M = cv2.moments(cnt)\n",
    "        cX = int(M[\"m10\"] / M[\"m00\"])\n",
    "        cY = int(M[\"m01\"] / M[\"m00\"])\n",
    "        orange_centers.append([cX, cY])\n",
    "   \n",
    "    # Calculate the spin rate of the disc\n",
    "    if prev_blue_centers and prev_orange_centers:\n",
    "        # Calculate the change in the positions of the centers\n",
    "        delta_blue_centers = np.array(blue_centers) - np.array(prev_blue_centers)\n",
    "        delta_orange_centers = np.array(orange_centers) - np.array(prev_orange_centers)\n",
    "        \n",
    "        # Calculate the angular velocity of the disc in radians per second\n",
    "        spin_rate_blue = np.arctan2(delta_blue_centers[:,1], delta_blue_centers[:,0]) / time_interval\n",
    "        spin_rate_orange = np.arctan2(delta_orange_centers[:,1], delta_orange_centers[:,0]) / time_interval\n",
    "        \n",
    "        # Calculate the average spin rate\n",
    "        avg_spin_rate_blue = np.mean(spin_rate_blue)\n",
    "        avg_spin_rate_orange = np.mean(spin_rate_orange)\n",
    "\n",
    "        #convert to rpm\n",
    "        avg_rpm_blue = avg_spin_rate_blue * 30 / np.pi\n",
    "        avg_rpm_orange = avg_spin_rate_orange * 30 / np.pi\n",
    "\n",
    "        #convert to rps\n",
    "        avg_rps_blue = avg_spin_rate_blue / (2*np.pi)\n",
    "        avg_rps_orange = avg_spin_rate_orange / (2*np.pi)\n",
    "        \n",
    "        print(\"Blue spin rate:\", avg_rps_blue, \"rps\")\n",
    "        # print(\"Orange spin rate:\", avg_rps_orange, \"rps\")\n",
    "    \n",
    "    # Update the previous centers of the blue and orange quadrants\n",
    "    prev_blue_centers = blue_centers\n",
    "    prev_orange_centers = orange_centers\n",
    "    \n",
    "\n",
    "    for i in range(len(blue_contours)):\n",
    "        cv2.drawContours(frame, [blue_contours[i]], 0, (0, 0, 255), 2)\n",
    "        cv2.putText(frame, 'Blue RPM: {:.2f} rpm'.format(avg_rpm_blue), (800, 30), cv2.FONT_HERSHEY_SIMPLEX, 1, (255, 255, 255), 2)\n",
    "\n",
    "    for i in range(len(orange_contours)):\n",
    "        x, y, w, h = cv2.boundingRect(orange_contours[i])\n",
    "        # cv2.putText(frame, str(centers_and_labels[i][1]), (x, y-10), cv2.FONT_HERSHEY_SIMPLEX, 0.9, (255, 255, 0), 2)\n",
    "        # cv2.line(frame, tuple(centers_and_labels[i][1]), tuple(prev_centers_and_labels[i][0]), (255, 0, 0), 2)\n",
    "        cv2.drawContours(frame, [orange_contours[i]], 0, (0, 0, 255), 2)\n",
    "        cv2.putText(frame, 'Orange RPM: {:.2f} rpm'.format(avg_rpm_orange), (800, 60), cv2.FONT_HERSHEY_SIMPLEX, 1, (255, 255, 255), 2)\n",
    "        \n",
    "   \n",
    "    # Update the previous position and time variables\n",
    "    prev_x, prev_y = x, y\n",
    "    prev_time = current_time\n",
    "\n",
    "    cv2.imshow(\"frame\", frame)\n",
    "    # cv2.imshow(\"frame keypoints\", frame_keypoints)\n",
    "    #cv2.imshow(\"roi\", roi)\n",
    "    #cv2.imshow(\"Mask\", mask)\n",
    "    # cv2.imshow(\"mask yellow\",mask_yellow)\n",
    "    \n",
    "    # output.write(frame)\n",
    "    #output2.write(mask)\n",
    "    if cv2.waitKey(120) & 0xFF == ord('q'):\n",
    "        break\n",
    "\n",
    "\n",
    "cap.release()\n",
    "output.release()\n",
    "#output2.release()\n",
    "cv2.destroyAllWindows()"
   ]
  },
  {
   "cell_type": "code",
   "execution_count": null,
   "metadata": {},
   "outputs": [
    {
     "name": "stdout",
     "output_type": "stream",
     "text": [
      "   x_velocity  y_velocity\n",
      "0    0.000000    0.000000\n",
      "0    0.000000  203.173699\n",
      "0   13.802114   -6.210951\n",
      "0   35.627050   -3.995557\n",
      "0   25.516785   -4.819837\n",
      "0   23.658484   -8.603085\n",
      "0   24.382174  -12.468157\n",
      "0   22.568404  -20.419033\n",
      "0   22.233402  -28.504362\n",
      "0   15.662784  -27.544896\n",
      "0    9.374932  -28.124795\n",
      "0   -1.152070  -28.225708\n",
      "0   -2.214641  -18.270788\n",
      "0   -3.282859   -9.848577\n",
      "0   -2.819397   -6.766553\n",
      "0    0.556679   -5.010112\n"
     ]
    }
   ],
   "source": [
    "velocities.to_csv(\"velocities.csv\", index=False)\n",
    "print(velocities)"
   ]
  }
 ],
 "metadata": {
  "kernelspec": {
   "display_name": "Python 3.10.5 64-bit",
   "language": "python",
   "name": "python3"
  },
  "language_info": {
   "codemirror_mode": {
    "name": "ipython",
    "version": 3
   },
   "file_extension": ".py",
   "mimetype": "text/x-python",
   "name": "python",
   "nbconvert_exporter": "python",
   "pygments_lexer": "ipython3",
   "version": "3.10.5"
  },
  "orig_nbformat": 4,
  "vscode": {
   "interpreter": {
    "hash": "aee8b7b246df8f9039afb4144a1f6fd8d2ca17a180786b69acc140d282b71a49"
   }
  }
 },
 "nbformat": 4,
 "nbformat_minor": 2
}
