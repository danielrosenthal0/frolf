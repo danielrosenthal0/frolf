{
 "cells": [
  {
   "cell_type": "code",
   "execution_count": 176,
   "metadata": {},
   "outputs": [
    {
     "data": {
      "text/plain": [
       "0"
      ]
     },
     "execution_count": 176,
     "metadata": {},
     "output_type": "execute_result"
    }
   ],
   "source": [
    "#import packages\n",
    "import numpy as np\n",
    "import pandas as pd\n",
    "import cv2\n",
    "import time\n",
    "import math\n",
    "cv2.startWindowThread()\n"
   ]
  },
  {
   "cell_type": "code",
   "execution_count": 177,
   "metadata": {},
   "outputs": [
    {
     "name": "stdout",
     "output_type": "stream",
     "text": [
      "119.88011988011988\n"
     ]
    }
   ],
   "source": [
    "#open video\n",
    "cap = cv2.VideoCapture('/Users/danielrosenthal/Documents/EGR_314/Daniel_7_top_trim.mp4')\n",
    "fps = cap.get(cv2.CAP_PROP_FPS) #get fps\n",
    "print(fps)\n",
    "if cap.isOpened() == False:\n",
    "    print(\"Cannot open video file.\")"
   ]
  },
  {
   "cell_type": "code",
   "execution_count": 178,
   "metadata": {},
   "outputs": [],
   "source": [
    "#saving output\n",
    "frame_width = int(cap.get(3))\n",
    "frame_height = int(cap.get(4))\n",
    "size = (frame_width, frame_height)\n"
   ]
  },
  {
   "cell_type": "code",
   "execution_count": 179,
   "metadata": {},
   "outputs": [],
   "source": [
    "#defining size for output videos\n",
    "output = cv2.VideoWriter('output.mp4', cv2.VideoWriter_fourcc(*'mp4v'), 20.0, (1920,1080))\n",
    "#output2 = cv2.VideoWriter('output2.mp4', cv2.VideoWriter_fourcc(*'MP4V'), 20.0, (1920,1080))"
   ]
  },
  {
   "cell_type": "code",
   "execution_count": 180,
   "metadata": {},
   "outputs": [],
   "source": [
    "#object detection parameters\n",
    "object_detector = cv2.createBackgroundSubtractorMOG2(history = 100, varThreshold= 90)"
   ]
  },
  {
   "cell_type": "code",
   "execution_count": 181,
   "metadata": {},
   "outputs": [],
   "source": [
    "#creating empty array\n",
    "# Create an empty DataFrame with columns for x and y velocities\n",
    "velocities = pd.DataFrame(columns=['x_velocity', 'y_velocity'])\n",
    "prev_x, prev_y = None, None\n",
    "prev_time = None\n"
   ]
  },
  {
   "cell_type": "code",
   "execution_count": 182,
   "metadata": {},
   "outputs": [],
   "source": [
    "#defining rgb range to detect orange for now\n",
    "lower_color_bound = np.array([0,100,178])\n",
    "upper_color_bound = np.array([255,255,255])"
   ]
  },
  {
   "cell_type": "code",
   "execution_count": 183,
   "metadata": {},
   "outputs": [],
   "source": [
    "#conversion factor, likely incorrect bc camera and setup need to be calibrated\n",
    "disc_length = 8.26 #disc length in inches\n",
    "distance = 36 #distance of disc from camera, rough guess\n",
    "conversion_rate = 0"
   ]
  },
  {
   "cell_type": "code",
   "execution_count": 184,
   "metadata": {},
   "outputs": [],
   "source": [
    "orb = cv2.ORB_create()"
   ]
  },
  {
   "cell_type": "code",
   "execution_count": 185,
   "metadata": {},
   "outputs": [],
   "source": [
    "while True:\n",
    "    # Get current time\n",
    "    current_time = time.time()\n",
    "\n",
    "    ret, frame = cap.read()\n",
    "    if not ret:\n",
    "        break\n",
    "    \n",
    "    height, width, _ = frame.shape\n",
    "    \n",
    "    \n",
    "    #object detection\n",
    "    mask = object_detector.apply(frame)\n",
    "\n",
    "    #cleaning mask\n",
    "    _, mask = cv2.threshold(mask, 254, 255, cv2.THRESH_BINARY)\n",
    "    contours, _ = cv2.findContours(mask, cv2.RETR_TREE, cv2.CHAIN_APPROX_SIMPLE)\n",
    "\n",
    "    #trying rgb threshold\n",
    "    mask = cv2.cvtColor(frame,cv2.COLOR_BGR2HSV) \n",
    "    mask_rgb = cv2.inRange(mask,lower_color_bound,upper_color_bound)\n",
    "    rgb_contours, _ = cv2.findContours(mask_rgb, cv2.RETR_TREE, cv2.CHAIN_APPROX_SIMPLE)\n",
    "       \n",
    "    \n",
    "    longest_width = 0\n",
    "    for cnt in rgb_contours:\n",
    "        #calculate error, remove small elements\n",
    "        area = cv2.contourArea(cnt)\n",
    "        if area > 500:\n",
    "            cv2.drawContours(frame, [cnt], -1, (0,255,0), 2)\n",
    "            #drawing rectangle around detected objects\n",
    "            x, y, w, h = cv2.boundingRect(cnt)\n",
    "            if w > longest_width:\n",
    "                longest_width = w\n",
    "            #print(longest_width)\n",
    "            rect_coordinates = np.append(rect_coordinates,[x,y,w,h])\n",
    "            cv2.rectangle(frame, (x, y), (x + w, y + h), (0,255,0),3)\n",
    "        \n",
    "        # keypoints, descriptors = orb.detectAndCompute(cnt, None)\n",
    "        # frame_keypoints = cv2.drawKeypoints(frame, keypoints, None)\n",
    "            \n",
    "    if longest_width > 0:\n",
    "        conversion_rate = disc_length / longest_width\n",
    "    \n",
    "\n",
    "    # Check if previous position and time are available\n",
    "    if prev_x is not None and prev_y is not None and prev_time is not None:\n",
    "        # Calculate the distance traveled in the x and y directions\n",
    "        dx = x - prev_x\n",
    "        dy = y - prev_y\n",
    "\n",
    "        # Calculate the time interval\n",
    "        dt = current_time - prev_time\n",
    "\n",
    "        # Calculate the velocity in the x and y directions\n",
    "        vx = (dx / dt) \n",
    "        vy = (dy / dt)\n",
    "        \n",
    "        # Add the velocity values to the DataFrame\n",
    "        velocities = pd.concat([velocities, new_data])\n",
    "\n",
    "        vx_mph = vx * conversion_rate\n",
    "        vy_mph = vy * conversion_rate\n",
    "        velocity = np.linalg.norm([vx_mph, vy_mph])\n",
    "\n",
    "        # Display the velocity values on the output video\n",
    "        cv2.putText(frame, 'X Velocity: {:.2f} mph'.format(vx_mph), (10, 30), cv2.FONT_HERSHEY_SIMPLEX, 1, (255, 255, 255), 2)\n",
    "        cv2.putText(frame, 'Y Velocity: {:.2f} mph'.format(vy_mph), (10, 60), cv2.FONT_HERSHEY_SIMPLEX, 1, (255, 255, 255), 2)\n",
    "        cv2.putText(frame, 'True Velocity: {:.2f} mph'.format(velocity), (10, 90), cv2.FONT_HERSHEY_SIMPLEX, 1, (255, 255, 255), 2)\n",
    "\n",
    "        # create a new dataframe with the new velocities\n",
    "        new_data = pd.DataFrame({'x_velocity': [vx_mph], 'y_velocity': [vy_mph]})\n",
    "\n",
    "    # Update the previous position and time variables\n",
    "    prev_x, prev_y = x, y\n",
    "    prev_time = current_time\n",
    "\n",
    "    cv2.imshow(\"frame\", frame)\n",
    "    # cv2.imshow(\"frame keypoints\", frame_keypoints)\n",
    "    #cv2.imshow(\"roi\", roi)\n",
    "    #cv2.imshow(\"Mask\", mask)\n",
    "    #cv2.imshow(\"maskrgb\",mask_rgb)\n",
    "    \n",
    "    output.write(frame)\n",
    "    #output2.write(mask)\n",
    "    if cv2.waitKey(120) & 0xFF == ord('q'):\n",
    "        break\n",
    "\n",
    "\n",
    "cap.release()\n",
    "output.release()\n",
    "#output2.release()\n",
    "cv2.destroyAllWindows()"
   ]
  },
  {
   "cell_type": "code",
   "execution_count": 186,
   "metadata": {},
   "outputs": [
    {
     "name": "stdout",
     "output_type": "stream",
     "text": [
      "    x_velocity  y_velocity\n",
      "0     0.000000    0.000000\n",
      "0     0.000000    0.000000\n",
      "0     0.000000    0.000000\n",
      "0     0.000000    0.000000\n",
      "0     0.000000    0.000000\n",
      "0     0.000000    0.000000\n",
      "0     0.000000    0.000000\n",
      "0     0.000000    0.000000\n",
      "0 -3403.114888 -394.352369\n",
      "0     0.000000    6.844011\n",
      "0     0.000000   14.656906\n",
      "0     0.000000   12.536051\n",
      "0    16.252159   11.305850\n",
      "0    24.124666   11.308437\n",
      "0    24.376292    8.603397\n",
      "0    26.318166    3.509089\n",
      "0    24.325267    0.947738\n",
      "0    25.173965    0.314675\n",
      "0    23.630444    0.576352\n",
      "0    25.674809    0.916957\n",
      "0    25.172866    0.000000\n",
      "0    25.636043    0.308868\n",
      "0    24.761697    0.000000\n",
      "0    25.116467    0.598011\n",
      "0    24.350779    0.579780\n",
      "0    25.435679    0.591527\n",
      "0    24.415680    0.000000\n",
      "0    23.577917    0.561379\n",
      "0    22.998768    0.522699\n",
      "0    22.783940    0.258908\n",
      "0    23.726429    0.269619\n",
      "0    22.595356    0.519433\n",
      "0    21.142233    0.486028\n",
      "0    30.058669    0.699039\n",
      "0    78.746904   23.266131\n",
      "0     0.000000    0.000000\n",
      "0     0.000000    0.000000\n",
      "0     0.000000    0.000000\n",
      "0     0.000000    0.000000\n",
      "0     0.000000    0.000000\n",
      "0     0.000000    0.000000\n",
      "0     0.000000    0.000000\n",
      "0     0.000000    0.000000\n",
      "0     0.000000    0.000000\n",
      "0     0.000000    0.000000\n",
      "0     0.000000    0.000000\n",
      "0     0.000000    0.000000\n"
     ]
    }
   ],
   "source": [
    "velocities.to_csv(\"velocities.csv\", index=False)\n",
    "print(velocities)"
   ]
  }
 ],
 "metadata": {
  "kernelspec": {
   "display_name": "Python 3.10.5 64-bit",
   "language": "python",
   "name": "python3"
  },
  "language_info": {
   "codemirror_mode": {
    "name": "ipython",
    "version": 3
   },
   "file_extension": ".py",
   "mimetype": "text/x-python",
   "name": "python",
   "nbconvert_exporter": "python",
   "pygments_lexer": "ipython3",
   "version": "3.10.5"
  },
  "orig_nbformat": 4,
  "vscode": {
   "interpreter": {
    "hash": "aee8b7b246df8f9039afb4144a1f6fd8d2ca17a180786b69acc140d282b71a49"
   }
  }
 },
 "nbformat": 4,
 "nbformat_minor": 2
}
