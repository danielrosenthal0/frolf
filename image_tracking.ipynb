{
 "cells": [
  {
   "cell_type": "code",
   "execution_count": 141,
   "metadata": {},
   "outputs": [
    {
     "data": {
      "text/plain": [
       "0"
      ]
     },
     "execution_count": 141,
     "metadata": {},
     "output_type": "execute_result"
    }
   ],
   "source": [
    "#import packages\n",
    "import numpy as np\n",
    "import pandas as pd\n",
    "import cv2\n",
    "import time\n",
    "import math\n",
    "cv2.startWindowThread()\n"
   ]
  },
  {
   "cell_type": "code",
   "execution_count": 142,
   "metadata": {},
   "outputs": [
    {
     "name": "stdout",
     "output_type": "stream",
     "text": [
      "119.88011988011988\n"
     ]
    }
   ],
   "source": [
    "#open video\n",
    "cap = cv2.VideoCapture('/Users/danielrosenthal/Documents/EGR_314/Daniel_7_top_trim.mp4')\n",
    "fps = cap.get(cv2.CAP_PROP_FPS) #get fps\n",
    "print(fps)\n",
    "if cap.isOpened() == False:\n",
    "    print(\"Cannot open video file.\")"
   ]
  },
  {
   "cell_type": "code",
   "execution_count": 143,
   "metadata": {},
   "outputs": [],
   "source": [
    "#saving output\n",
    "frame_width = int(cap.get(3))\n",
    "frame_height = int(cap.get(4))\n",
    "size = (frame_width, frame_height)\n"
   ]
  },
  {
   "cell_type": "code",
   "execution_count": 144,
   "metadata": {},
   "outputs": [],
   "source": [
    "#defining size for output videos\n",
    "output = cv2.VideoWriter('output.mp4', cv2.VideoWriter_fourcc(*'mp4v'), 20.0, (1920,1080))\n",
    "#output2 = cv2.VideoWriter('output2.mp4', cv2.VideoWriter_fourcc(*'MP4V'), 20.0, (1920,1080))"
   ]
  },
  {
   "cell_type": "code",
   "execution_count": 145,
   "metadata": {},
   "outputs": [],
   "source": [
    "#object detection parameters\n",
    "object_detector = cv2.createBackgroundSubtractorMOG2(history = 100, varThreshold= 90)"
   ]
  },
  {
   "cell_type": "code",
   "execution_count": 146,
   "metadata": {},
   "outputs": [],
   "source": [
    "#creating empty array\n",
    "# Create an empty DataFrame with columns for x and y velocities\n",
    "velocities = pd.DataFrame(columns=['x_velocity', 'y_velocity'])\n",
    "prev_x, prev_y = None, None\n",
    "prev_time = None\n"
   ]
  },
  {
   "cell_type": "code",
   "execution_count": 147,
   "metadata": {},
   "outputs": [],
   "source": [
    "#defining rgb range to detect orange for now\n",
    "lower_color_bound = np.array([0,100,178])\n",
    "upper_color_bound = np.array([255,255,255])\n",
    "\n",
    "# blue_lower_bound = np.array([60,50,0])\n",
    "# blue_upper_bound = np.array([170,255,255])"
   ]
  },
  {
   "cell_type": "code",
   "execution_count": 148,
   "metadata": {},
   "outputs": [],
   "source": [
    "#conversion factor, likely incorrect bc camera and setup need to be calibrated\n",
    "disc_length = 8.26 #disc length in inches\n",
    "distance = 36 #distance of disc from camera, rough guess\n",
    "conversion_rate = 0\n",
    "rect_coordinates = 0\n",
    "new_data = None"
   ]
  },
  {
   "cell_type": "code",
   "execution_count": 149,
   "metadata": {},
   "outputs": [],
   "source": [
    "orb = cv2.ORB_create()"
   ]
  },
  {
   "cell_type": "code",
   "execution_count": 150,
   "metadata": {},
   "outputs": [],
   "source": [
    "while True:\n",
    "    # Get current time\n",
    "    current_time = time.time()\n",
    "\n",
    "    ret, frame = cap.read()\n",
    "    if not ret:\n",
    "        break\n",
    "    \n",
    "    height, width, _ = frame.shape\n",
    "    \n",
    "    \n",
    "    #object detection\n",
    "    mask = object_detector.apply(frame)\n",
    "\n",
    "    #cleaning mask\n",
    "    _, mask = cv2.threshold(mask, 254, 255, cv2.THRESH_BINARY)\n",
    "    contours, _ = cv2.findContours(mask, cv2.RETR_TREE, cv2.CHAIN_APPROX_SIMPLE)\n",
    "\n",
    "    #trying rgb threshold\n",
    "    mask = cv2.cvtColor(frame,cv2.COLOR_BGR2HSV) \n",
    "    mask_rgb = cv2.inRange(mask,lower_color_bound,upper_color_bound)\n",
    "    rgb_contours, _ = cv2.findContours(mask_rgb, cv2.RETR_TREE, cv2.CHAIN_APPROX_SIMPLE)\n",
    "       \n",
    "    \n",
    "    longest_width = 0\n",
    "    for cnt in rgb_contours:\n",
    "        #calculate error, remove small elements\n",
    "        area = cv2.contourArea(cnt)\n",
    "        if area > 500:\n",
    "            cv2.drawContours(frame, [cnt], -1, (0,255,0), 2)\n",
    "            #drawing rectangle around detected objects\n",
    "            x, y, w, h = cv2.boundingRect(cnt)\n",
    "            if w > longest_width:\n",
    "                longest_width = w\n",
    "            #print(longest_width)\n",
    "            rect_coordinates = np.append(rect_coordinates,[x,y,w,h])\n",
    "            cv2.rectangle(frame, (x, y), (x + w, y + h), (0,255,0),3)\n",
    "        \n",
    "        # keypoints, descriptors = orb.detectAndCompute(cnt, None)\n",
    "        # frame_keypoints = cv2.drawKeypoints(frame, keypoints, None)\n",
    "            \n",
    "    if longest_width > 0:\n",
    "        conversion_rate = disc_length / longest_width\n",
    "    \n",
    "\n",
    "    # Check if previous position and time are available\n",
    "    if prev_x is not None and prev_y is not None and prev_time is not None:\n",
    "        # Calculate the distance traveled in the x and y directions\n",
    "        dx = x - prev_x\n",
    "        dy = y - prev_y\n",
    "\n",
    "        # Calculate the time interval\n",
    "        dt = current_time - prev_time\n",
    "\n",
    "        # Calculate the velocity in the x and y directions\n",
    "        vx = (dx / dt) \n",
    "        vy = (dy / dt)\n",
    "        \n",
    "        # Add the velocity values to the DataFrame\n",
    "        velocities = pd.concat([velocities, new_data])\n",
    "\n",
    "        vx_mph = vx * conversion_rate\n",
    "        vy_mph = vy * conversion_rate\n",
    "        velocity = np.linalg.norm([vx_mph, vy_mph])\n",
    "\n",
    "        # Display the velocity values on the output video\n",
    "        cv2.putText(frame, 'X Velocity: {:.2f} mph'.format(vx_mph), (10, 30), cv2.FONT_HERSHEY_SIMPLEX, 1, (255, 255, 255), 2)\n",
    "        cv2.putText(frame, 'Y Velocity: {:.2f} mph'.format(vy_mph), (10, 60), cv2.FONT_HERSHEY_SIMPLEX, 1, (255, 255, 255), 2)\n",
    "        cv2.putText(frame, 'True Velocity: {:.2f} mph'.format(velocity), (10, 90), cv2.FONT_HERSHEY_SIMPLEX, 1, (255, 255, 255), 2)\n",
    "\n",
    "        # create a new dataframe with the new velocities\n",
    "        new_data = pd.DataFrame({'x_velocity': [vx_mph], 'y_velocity': [vy_mph]})\n",
    "\n",
    "    # Update the previous position and time variables\n",
    "    prev_x, prev_y = x, y\n",
    "    prev_time = current_time\n",
    "\n",
    "    cv2.imshow(\"frame\", frame)\n",
    "    # cv2.imshow(\"frame keypoints\", frame_keypoints)\n",
    "    #cv2.imshow(\"roi\", roi)\n",
    "    #cv2.imshow(\"Mask\", mask)\n",
    "    #cv2.imshow(\"maskrgb\",mask_rgb)\n",
    "    \n",
    "    output.write(frame)\n",
    "    #output2.write(mask)\n",
    "    if cv2.waitKey(120) & 0xFF == ord('q'):\n",
    "        break\n",
    "\n",
    "\n",
    "cap.release()\n",
    "output.release()\n",
    "#output2.release()\n",
    "cv2.destroyAllWindows()"
   ]
  },
  {
   "cell_type": "code",
   "execution_count": 151,
   "metadata": {},
   "outputs": [
    {
     "name": "stdout",
     "output_type": "stream",
     "text": [
      "   x_velocity  y_velocity\n",
      "0    0.000000    0.000000\n",
      "0    0.000000    0.000000\n",
      "0    0.000000    0.000000\n",
      "0    0.000000    0.000000\n",
      "0    0.000000    0.000000\n",
      "0    0.000000    0.000000\n",
      "0    0.000000    0.000000\n",
      "0    0.000000  405.304839\n",
      "0    0.000000    7.550217\n",
      "0    0.000000   16.024052\n",
      "0    0.000000   13.286987\n",
      "0   18.287748   12.721911\n",
      "0   25.179554   11.802916\n",
      "0   24.626463    8.691693\n",
      "0   25.800519    3.440069\n",
      "0   25.215621    0.982427\n",
      "0   25.605325    0.320067\n",
      "0   25.367808    0.618727\n",
      "0   25.815873    0.921995\n",
      "0   25.919069    0.000000\n",
      "0   24.582607    0.296176\n",
      "0   25.817632    0.000000\n",
      "0   25.080756    0.597161\n",
      "0   24.280749    0.578113\n",
      "0   25.159299    0.585100\n",
      "0   24.378270    0.000000\n",
      "0   23.267625    0.553991\n",
      "0   21.761027    0.494569\n",
      "0   23.621062    0.268421\n",
      "0   23.544615    0.267552\n",
      "0   23.071804    0.530386\n",
      "0   22.758199    0.523177\n",
      "0   29.886085    0.695025\n",
      "0   77.231991   22.818543\n",
      "0    0.000000    0.000000\n",
      "0    0.000000    0.000000\n",
      "0    0.000000    0.000000\n",
      "0    0.000000    0.000000\n",
      "0    0.000000    0.000000\n",
      "0    0.000000    0.000000\n",
      "0    0.000000    0.000000\n",
      "0    0.000000    0.000000\n",
      "0    0.000000    0.000000\n",
      "0    0.000000    0.000000\n",
      "0    0.000000    0.000000\n",
      "0    0.000000    0.000000\n"
     ]
    }
   ],
   "source": [
    "velocities.to_csv(\"velocities.csv\", index=False)\n",
    "print(velocities)"
   ]
  }
 ],
 "metadata": {
  "kernelspec": {
   "display_name": "Python 3.10.5 64-bit",
   "language": "python",
   "name": "python3"
  },
  "language_info": {
   "codemirror_mode": {
    "name": "ipython",
    "version": 3
   },
   "file_extension": ".py",
   "mimetype": "text/x-python",
   "name": "python",
   "nbconvert_exporter": "python",
   "pygments_lexer": "ipython3",
   "version": "3.10.5"
  },
  "orig_nbformat": 4,
  "vscode": {
   "interpreter": {
    "hash": "aee8b7b246df8f9039afb4144a1f6fd8d2ca17a180786b69acc140d282b71a49"
   }
  }
 },
 "nbformat": 4,
 "nbformat_minor": 2
}
