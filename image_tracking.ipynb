{
 "cells": [
  {
   "cell_type": "code",
   "execution_count": 1,
   "metadata": {},
   "outputs": [],
   "source": [
    "#import packages\n",
    "import numpy as np\n",
    "import cv2"
   ]
  },
  {
   "cell_type": "code",
   "execution_count": 2,
   "metadata": {},
   "outputs": [],
   "source": [
    "#open video\n",
    "cap = cv2.VideoCapture('/Users/danielrosenthal/Documents/EGR_314/gopro_overhead_trim.mp4')\n",
    "fps = cap.get(cv2.CAP_PROP_FPS) #get fps\n",
    "\n",
    "if cap.isOpened() == False:\n",
    "    print(\"Cannot open video file.\")"
   ]
  },
  {
   "cell_type": "code",
   "execution_count": 3,
   "metadata": {},
   "outputs": [
    {
     "name": "stdout",
     "output_type": "stream",
     "text": [
      "(1080, 1920)\n"
     ]
    },
    {
     "name": "stderr",
     "output_type": "stream",
     "text": [
      "OpenCV: FFMPEG: tag 0x5634504d/'MP4V' is not supported with codec id 12 and format 'mp4 / MP4 (MPEG-4 Part 14)'\n",
      "OpenCV: FFMPEG: fallback to use tag 0x7634706d/'mp4v'\n"
     ]
    }
   ],
   "source": [
    "#saving output\n",
    "frame_width = int(cap.get(3))\n",
    "frame_height = int(cap.get(4))\n",
    "size = (frame_width, frame_height)\n",
    "print(size)\n",
    "output = cv2.VideoWriter('output.mp4', cv2.VideoWriter_fourcc(*'MP4V'), 20.0, (1080,1920))"
   ]
  },
  {
   "cell_type": "code",
   "execution_count": 4,
   "metadata": {},
   "outputs": [],
   "source": [
    "#object detection parameters\n",
    "object_detector = cv2.createBackgroundSubtractorMOG2(history = 100, varThreshold= 90)"
   ]
  },
  {
   "cell_type": "code",
   "execution_count": 5,
   "metadata": {},
   "outputs": [],
   "source": [
    "# blob detection\n",
    "params = cv2.SimpleBlobDetector_Params()\n",
    " \n",
    "#threshold\n",
    "params.minThreshold = 10;\n",
    "params.maxThreshold = 200; \n",
    "# area parameters\n",
    "params.filterByArea = True\n",
    "params.minArea = 100\n",
    " \n",
    "# circular parameters\n",
    "params.filterByCircularity = True\n",
    "params.minCircularity = 0.02\n",
    "#params.maxCircularity = 0.7\n",
    " \n",
    "# convexity parameters\n",
    "params.filterByConvexity = True\n",
    "params.minConvexity = 0.02\n",
    "#params.maxConvexity = 0.7\n",
    "\n",
    "     \n",
    "# inertia parameters\n",
    "params.filterByInertia = True\n",
    "params.minInertiaRatio = 0.01\n",
    "\n",
    "#params.maxInertiaRatio = 0.1\n",
    "\n",
    "\n",
    " \n",
    "# Create a detector with the parameters\n",
    "detector = cv2.SimpleBlobDetector_create(params)"
   ]
  },
  {
   "cell_type": "code",
   "execution_count": 6,
   "metadata": {},
   "outputs": [
    {
     "ename": "error",
     "evalue": "OpenCV(4.6.0) /Users/runner/work/opencv-python/opencv-python/opencv/modules/imgproc/src/color.cpp:182: error: (-215:Assertion failed) !_src.empty() in function 'cvtColor'\n",
     "output_type": "error",
     "traceback": [
      "\u001b[0;31m---------------------------------------------------------------------------\u001b[0m",
      "\u001b[0;31merror\u001b[0m                                     Traceback (most recent call last)",
      "\u001b[1;32m/Users/danielrosenthal/Documents/GitHub/frolf/image_tracking.ipynb Cell 6\u001b[0m in \u001b[0;36m<cell line: 1>\u001b[0;34m()\u001b[0m\n\u001b[1;32m     <a href='vscode-notebook-cell:/Users/danielrosenthal/Documents/GitHub/frolf/image_tracking.ipynb#W5sZmlsZQ%3D%3D?line=31'>32</a>\u001b[0m keypoints \u001b[39m=\u001b[39m detector\u001b[39m.\u001b[39mdetect(frame)\n\u001b[1;32m     <a href='vscode-notebook-cell:/Users/danielrosenthal/Documents/GitHub/frolf/image_tracking.ipynb#W5sZmlsZQ%3D%3D?line=32'>33</a>\u001b[0m blank \u001b[39m=\u001b[39m np\u001b[39m.\u001b[39mzeros((\u001b[39m1\u001b[39m, \u001b[39m1\u001b[39m))\n\u001b[0;32m---> <a href='vscode-notebook-cell:/Users/danielrosenthal/Documents/GitHub/frolf/image_tracking.ipynb#W5sZmlsZQ%3D%3D?line=33'>34</a>\u001b[0m blobs \u001b[39m=\u001b[39m cv2\u001b[39m.\u001b[39;49mdrawKeypoints(frame, keypoints, blank, (\u001b[39m0\u001b[39;49m, \u001b[39m0\u001b[39;49m, \u001b[39m255\u001b[39;49m),\n\u001b[1;32m     <a href='vscode-notebook-cell:/Users/danielrosenthal/Documents/GitHub/frolf/image_tracking.ipynb#W5sZmlsZQ%3D%3D?line=34'>35</a>\u001b[0m                       cv2\u001b[39m.\u001b[39;49mDRAW_MATCHES_FLAGS_DRAW_RICH_KEYPOINTS)\n\u001b[1;32m     <a href='vscode-notebook-cell:/Users/danielrosenthal/Documents/GitHub/frolf/image_tracking.ipynb#W5sZmlsZQ%3D%3D?line=35'>36</a>\u001b[0m number_of_blobs \u001b[39m=\u001b[39m \u001b[39mlen\u001b[39m(keypoints)\n\u001b[1;32m     <a href='vscode-notebook-cell:/Users/danielrosenthal/Documents/GitHub/frolf/image_tracking.ipynb#W5sZmlsZQ%3D%3D?line=36'>37</a>\u001b[0m text \u001b[39m=\u001b[39m \u001b[39m\"\u001b[39m\u001b[39mNumber of Circular Blobs: \u001b[39m\u001b[39m\"\u001b[39m \u001b[39m+\u001b[39m \u001b[39mstr\u001b[39m(\u001b[39mlen\u001b[39m(keypoints))\n",
      "\u001b[0;31merror\u001b[0m: OpenCV(4.6.0) /Users/runner/work/opencv-python/opencv-python/opencv/modules/imgproc/src/color.cpp:182: error: (-215:Assertion failed) !_src.empty() in function 'cvtColor'\n"
     ]
    }
   ],
   "source": [
    "while True:\n",
    "    ret, frame = cap.read()\n",
    "    \n",
    "    #region of interest\n",
    "    #height, width, _ = frame.shape\n",
    "    #print(height, width)\n",
    "    #roi = frame[130:1800, 200:500]\n",
    "    \n",
    "    #object detection\n",
    "    mask = object_detector.apply(frame)\n",
    "\n",
    "    #cleaning mask\n",
    "    _, mask = cv2.threshold(mask, 254, 255, cv2.THRESH_BINARY)\n",
    "    contours, _ = cv2.findContours(mask, cv2.RETR_TREE, cv2.CHAIN_APPROX_SIMPLE)\n",
    "    \n",
    "    for cnt in contours:\n",
    "        #calculate error, remove small elements\n",
    "        area = cv2.contourArea(cnt)\n",
    "        if area > 100:\n",
    "            #cv2.drawContours(roi, [cnt], -1, (0,255,0), 2)\n",
    "            #drawing rectangle around detected objects\n",
    "            x, y, w, h = cv2.boundingRect(cnt)\n",
    "            #print(x, y)\n",
    "            cv2.rectangle(frame, (x, y), (x + w, y + h), (0,255,0),3)\n",
    "            #cv2.ellipse(frame,(x+w, y + h),)\n",
    "            speed = [x, y]\n",
    "            # print(speed)\n",
    "            #text = str(label+1)\n",
    "            #cv2.putText(frame, text,(20,550),cv2.FONT_HERSHEY_PLAIN,1,(255, 0, 10),3)\n",
    "    \n",
    "    #blob detection\n",
    "    keypoints = detector.detect(frame)\n",
    "    blank = np.zeros((1, 1))\n",
    "    blobs = cv2.drawKeypoints(frame, keypoints, blank, (0, 0, 255),\n",
    "                          cv2.DRAW_MATCHES_FLAGS_DRAW_RICH_KEYPOINTS)\n",
    "    number_of_blobs = len(keypoints)\n",
    "    text = \"Number of Circular Blobs: \" + str(len(keypoints))\n",
    "    cv2.putText(blobs, text, (20, 550),\n",
    "            cv2.FONT_HERSHEY_SIMPLEX, 1, (0, 100, 255), 2)\n",
    "\n",
    "    #cv2.imshow(\"roi\", roi)\n",
    "    cv2.imshow(\"Frame\",frame)\n",
    "    #cv2.imshow(\"Mask\", mask)\n",
    "    #cv2.imshow(\"blobs\", blobs)\n",
    "    output.write(frame)\n",
    "    key = cv2.waitKey(120)\n",
    "    if key == 27:\n",
    "        break\n",
    "#print(height, width)\n",
    "cap.release()\n",
    "output.release()\n",
    "cv2.destroyAllWindows()"
   ]
  }
 ],
 "metadata": {
  "kernelspec": {
   "display_name": "Python 3.10.5 64-bit",
   "language": "python",
   "name": "python3"
  },
  "language_info": {
   "codemirror_mode": {
    "name": "ipython",
    "version": 3
   },
   "file_extension": ".py",
   "mimetype": "text/x-python",
   "name": "python",
   "nbconvert_exporter": "python",
   "pygments_lexer": "ipython3",
   "version": "3.10.5"
  },
  "orig_nbformat": 4,
  "vscode": {
   "interpreter": {
    "hash": "aee8b7b246df8f9039afb4144a1f6fd8d2ca17a180786b69acc140d282b71a49"
   }
  }
 },
 "nbformat": 4,
 "nbformat_minor": 2
}
