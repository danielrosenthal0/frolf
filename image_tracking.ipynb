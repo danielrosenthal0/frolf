{
 "cells": [
  {
   "cell_type": "code",
   "execution_count": 214,
   "metadata": {},
   "outputs": [
    {
     "data": {
      "text/plain": [
       "0"
      ]
     },
     "execution_count": 214,
     "metadata": {},
     "output_type": "execute_result"
    }
   ],
   "source": [
    "#import packages\n",
    "import numpy as np\n",
    "import cv2\n",
    "cv2.startWindowThread()\n"
   ]
  },
  {
   "cell_type": "code",
   "execution_count": 215,
   "metadata": {},
   "outputs": [],
   "source": [
    "#open video\n",
    "cap = cv2.VideoCapture('/Users/danielrosenthal/Documents/EGR_314/Daniel_7_top_trim.mp4')\n",
    "fps = cap.get(cv2.CAP_PROP_FPS) #get fps\n",
    "\n",
    "if cap.isOpened() == False:\n",
    "    print(\"Cannot open video file.\")"
   ]
  },
  {
   "cell_type": "code",
   "execution_count": 216,
   "metadata": {},
   "outputs": [
    {
     "name": "stderr",
     "output_type": "stream",
     "text": [
      "OpenCV: FFMPEG: tag 0x5634504d/'MP4V' is not supported with codec id 12 and format 'mp4 / MP4 (MPEG-4 Part 14)'\n",
      "OpenCV: FFMPEG: fallback to use tag 0x7634706d/'mp4v'\n",
      "OpenCV: FFMPEG: tag 0x5634504d/'MP4V' is not supported with codec id 12 and format 'mp4 / MP4 (MPEG-4 Part 14)'\n",
      "OpenCV: FFMPEG: fallback to use tag 0x7634706d/'mp4v'\n"
     ]
    }
   ],
   "source": [
    "#saving output\n",
    "frame_width = int(cap.get(3))\n",
    "frame_height = int(cap.get(4))\n",
    "size = (frame_width, frame_height)\n",
    "#print(size)\n",
    "output = cv2.VideoWriter('output.mp4', cv2.VideoWriter_fourcc(*'MP4V'), 20.0, (1920,1080))\n",
    "output2 = cv2.VideoWriter('output2.mp4', cv2.VideoWriter_fourcc(*'MP4V'), 20.0, (1920,1080))"
   ]
  },
  {
   "cell_type": "code",
   "execution_count": 217,
   "metadata": {},
   "outputs": [],
   "source": [
    "#object detection parameters\n",
    "object_detector = cv2.createBackgroundSubtractorMOG2(history = 100, varThreshold= 90)"
   ]
  },
  {
   "cell_type": "code",
   "execution_count": 218,
   "metadata": {},
   "outputs": [],
   "source": [
    "#creating empty array\n",
    "arr = np.empty((0,4))\n",
    "\n",
    "#defining rgb range\n",
    "\n",
    "lower_color_bound = np.array([0,100,178])\n",
    "upper_color_bound = np.array([255,255,255])\n"
   ]
  },
  {
   "cell_type": "code",
   "execution_count": 219,
   "metadata": {},
   "outputs": [
    {
     "ename": "AttributeError",
     "evalue": "'NoneType' object has no attribute 'shape'",
     "output_type": "error",
     "traceback": [
      "\u001b[0;31m---------------------------------------------------------------------------\u001b[0m",
      "\u001b[0;31mAttributeError\u001b[0m                            Traceback (most recent call last)",
      "\u001b[1;32m/Users/danielrosenthal/Documents/GitHub/frolf/image_tracking.ipynb Cell 6\u001b[0m in \u001b[0;36m<cell line: 1>\u001b[0;34m()\u001b[0m\n\u001b[1;32m      <a href='vscode-notebook-cell:/Users/danielrosenthal/Documents/GitHub/frolf/image_tracking.ipynb#W5sZmlsZQ%3D%3D?line=1'>2</a>\u001b[0m ret, frame \u001b[39m=\u001b[39m cap\u001b[39m.\u001b[39mread()\n\u001b[1;32m      <a href='vscode-notebook-cell:/Users/danielrosenthal/Documents/GitHub/frolf/image_tracking.ipynb#W5sZmlsZQ%3D%3D?line=3'>4</a>\u001b[0m \u001b[39m#region of interest\u001b[39;00m\n\u001b[0;32m----> <a href='vscode-notebook-cell:/Users/danielrosenthal/Documents/GitHub/frolf/image_tracking.ipynb#W5sZmlsZQ%3D%3D?line=4'>5</a>\u001b[0m height, width, _ \u001b[39m=\u001b[39m frame\u001b[39m.\u001b[39;49mshape\n\u001b[1;32m      <a href='vscode-notebook-cell:/Users/danielrosenthal/Documents/GitHub/frolf/image_tracking.ipynb#W5sZmlsZQ%3D%3D?line=5'>6</a>\u001b[0m roi \u001b[39m=\u001b[39m frame[\u001b[39m200\u001b[39m:\u001b[39m900\u001b[39m, \u001b[39m100\u001b[39m:\u001b[39m1800\u001b[39m]\n\u001b[1;32m      <a href='vscode-notebook-cell:/Users/danielrosenthal/Documents/GitHub/frolf/image_tracking.ipynb#W5sZmlsZQ%3D%3D?line=7'>8</a>\u001b[0m \u001b[39m#object detection\u001b[39;00m\n",
      "\u001b[0;31mAttributeError\u001b[0m: 'NoneType' object has no attribute 'shape'"
     ]
    }
   ],
   "source": [
    "while True:\n",
    "    ret, frame = cap.read()\n",
    "    \n",
    "    #region of interest\n",
    "    height, width, _ = frame.shape\n",
    "    roi = frame[200:900, 100:1800]\n",
    "    \n",
    "    #object detection\n",
    "    mask = object_detector.apply(roi)\n",
    "\n",
    "    #cleaning mask\n",
    "    _, mask = cv2.threshold(mask, 254, 255, cv2.THRESH_BINARY)\n",
    "    contours, _ = cv2.findContours(mask, cv2.RETR_TREE, cv2.CHAIN_APPROX_SIMPLE)\n",
    "\n",
    "    #trying rgb threshold\n",
    "    mask = cv2.cvtColor(roi,cv2.COLOR_BGR2HSV) \n",
    "    mask_rgb = cv2.inRange(mask,lower_color_bound,upper_color_bound)\n",
    "    rgb_contours, _ = cv2.findContours(mask_rgb, cv2.RETR_TREE, cv2.CHAIN_APPROX_SIMPLE)\n",
    "       \n",
    "    \n",
    "    for cnt in contours:\n",
    "        #calculate error, remove small elements\n",
    "        area = cv2.contourArea(cnt)\n",
    "        if area > 100:\n",
    "            # cv2.drawContours(roi, [cnt], -1, (0,255,0), 2)\n",
    "            #drawing rectangle around detected objects\n",
    "            x, y, w, h = cv2.boundingRect(cnt)\n",
    "            if (x > 200 and x < 900 and y > 100 and y < 1800):\n",
    "                 #print(x, y, (x+w), (y+h))\n",
    "                 np.append(arr, (x, y, x + w, y + h))\n",
    "                 #print(arr)\n",
    "            cv2.rectangle(roi, (x, y), (x + w, y + h), (0,255,0),3)\n",
    "\n",
    "    for cnt in rgb_contours:\n",
    "        #calculate error, remove small elements\n",
    "        area = cv2.contourArea(cnt)\n",
    "        if area > 100:\n",
    "            cv2.drawContours(mask_rgb, [cnt], -1, (0,255,0), 2)\n",
    "            #drawing rectangle around detected objects\n",
    "            x, y, w, h = cv2.boundingRect(cnt)\n",
    "            if (x > 200 and x < 900 and y > 100 and y < 1800):\n",
    "                 #print(x, y, (x+w), (y+h))\n",
    "                 np.append(arr, (x, y, x + w, y + h))\n",
    "                 #print(arr)\n",
    "            cv2.rectangle(mask_rgb, (x, y), (x + w, y + h), (0,255,0),3)\n",
    "\n",
    "    cv2.imshow(\"roi\", roi)\n",
    "    #cv2.imshow(\"Frame\",frame)\n",
    "    cv2.imshow(\"Mask\", mask)\n",
    "    #cv2.imshow(\"blobs\", blobs)\n",
    "    cv2.imshow(\"maskrgb\",mask_rgb)\n",
    "    \n",
    "    output.write(frame)\n",
    "    #output2.write(mask)\n",
    "    if cv2.waitKey(120) & 0xFF == ord('q'):\n",
    "        break\n",
    "\n",
    "#print(height, width)\n",
    "cap.release()\n",
    "output.release()\n",
    "output2.release()\n",
    "cv2.destroyAllWindows()\n",
    "#cv2.waitKey(1)"
   ]
  },
  {
   "cell_type": "code",
   "execution_count": null,
   "metadata": {},
   "outputs": [
    {
     "name": "stdout",
     "output_type": "stream",
     "text": [
      "[]\n"
     ]
    }
   ],
   "source": [
    "print(arr)"
   ]
  }
 ],
 "metadata": {
  "kernelspec": {
   "display_name": "Python 3.10.5 64-bit",
   "language": "python",
   "name": "python3"
  },
  "language_info": {
   "codemirror_mode": {
    "name": "ipython",
    "version": 3
   },
   "file_extension": ".py",
   "mimetype": "text/x-python",
   "name": "python",
   "nbconvert_exporter": "python",
   "pygments_lexer": "ipython3",
   "version": "3.10.5"
  },
  "orig_nbformat": 4,
  "vscode": {
   "interpreter": {
    "hash": "aee8b7b246df8f9039afb4144a1f6fd8d2ca17a180786b69acc140d282b71a49"
   }
  }
 },
 "nbformat": 4,
 "nbformat_minor": 2
}
