{
 "cells": [
  {
   "cell_type": "code",
   "execution_count": 23,
   "metadata": {},
   "outputs": [
    {
     "data": {
      "text/plain": [
       "0"
      ]
     },
     "execution_count": 23,
     "metadata": {},
     "output_type": "execute_result"
    }
   ],
   "source": [
    "#import packages\n",
    "import numpy as np\n",
    "import pandas as pd\n",
    "import cv2\n",
    "import time\n",
    "import math\n",
    "cv2.startWindowThread()\n"
   ]
  },
  {
   "cell_type": "code",
   "execution_count": 24,
   "metadata": {},
   "outputs": [],
   "source": [
    "#open video\n",
    "cap = cv2.VideoCapture('/Users/danielrosenthal/Documents/EGR_314/Daniel_7_top_trim.mp4')\n",
    "fps = cap.get(cv2.CAP_PROP_FPS) #get fps\n",
    "\n",
    "if cap.isOpened() == False:\n",
    "    print(\"Cannot open video file.\")"
   ]
  },
  {
   "cell_type": "code",
   "execution_count": 25,
   "metadata": {},
   "outputs": [],
   "source": [
    "#saving output\n",
    "frame_width = int(cap.get(3))\n",
    "frame_height = int(cap.get(4))\n",
    "size = (frame_width, frame_height)\n"
   ]
  },
  {
   "cell_type": "code",
   "execution_count": 26,
   "metadata": {},
   "outputs": [],
   "source": [
    "#defining size for output videos\n",
    "output = cv2.VideoWriter('output.mp4', cv2.VideoWriter_fourcc(*'mp4v'), 20.0, (1920,1080))\n",
    "#output2 = cv2.VideoWriter('output2.mp4', cv2.VideoWriter_fourcc(*'MP4V'), 20.0, (1920,1080))"
   ]
  },
  {
   "cell_type": "code",
   "execution_count": 27,
   "metadata": {},
   "outputs": [],
   "source": [
    "#object detection parameters\n",
    "object_detector = cv2.createBackgroundSubtractorMOG2(history = 100, varThreshold= 90)"
   ]
  },
  {
   "cell_type": "code",
   "execution_count": 28,
   "metadata": {},
   "outputs": [],
   "source": [
    "#creating empty array\n",
    "# Create an empty DataFrame with columns for x and y velocities\n",
    "velocities = pd.DataFrame(columns=['x_velocity', 'y_velocity'])\n",
    "prev_x, prev_y = None, None\n",
    "prev_time = None\n"
   ]
  },
  {
   "cell_type": "code",
   "execution_count": 29,
   "metadata": {},
   "outputs": [],
   "source": [
    "#defining rgb range to detect orange for now\n",
    "\n",
    "lower_color_bound = np.array([0,100,178])\n",
    "upper_color_bound = np.array([255,255,255])"
   ]
  },
  {
   "cell_type": "code",
   "execution_count": 30,
   "metadata": {},
   "outputs": [],
   "source": [
    "# #calculating ppi for full 1920x1080 frame\n",
    "# pixels = frame_width*frame_height\n",
    "# inches = 24*18\n",
    "# ppi = math.sqrt(pixels) / math.sqrt(inches)"
   ]
  },
  {
   "cell_type": "code",
   "execution_count": 31,
   "metadata": {},
   "outputs": [
    {
     "name": "stdout",
     "output_type": "stream",
     "text": [
      "175.70482914340297\n",
      "36.661356887239556\n",
      "0.22530535422912829\n"
     ]
    }
   ],
   "source": [
    "#conversion factor, likely incorrect bc camera and setup need to be calibrated\n",
    "disc_length = 8.26 #disc length in inches\n",
    "distance = 36 #distance of disc from camera, rough guess\n",
    "\n",
    "#Approximate field of view (in degrees)\n",
    "fov = 2 * np.arctan(frame_width / (2 * distance)) * 180 / np.pi\n",
    "print(fov)\n",
    "\n",
    "# Width of the object in pixels   \n",
    "object_width_pixels = abs((disc_length/2) / (np.tan(fov/2)))\n",
    "print (object_width_pixels)\n",
    "#calculate conversion rate\n",
    "conversion_rate = disc_length / object_width_pixels\n",
    "print(conversion_rate)\n",
    "\n"
   ]
  },
  {
   "cell_type": "code",
   "execution_count": 32,
   "metadata": {},
   "outputs": [],
   "source": [
    "# disc_diameter = 8.26\n",
    "# distance = 36\n",
    "# disc_diameter_pixels = (disc_diameter * frame_height * frame_width) / (distance*2)\n",
    "x = None\n",
    "y = None"
   ]
  },
  {
   "cell_type": "code",
   "execution_count": 33,
   "metadata": {},
   "outputs": [
    {
     "ename": "NameError",
     "evalue": "name 'rect_coordinates' is not defined",
     "output_type": "error",
     "traceback": [
      "\u001b[0;31m---------------------------------------------------------------------------\u001b[0m",
      "\u001b[0;31mNameError\u001b[0m                                 Traceback (most recent call last)",
      "\u001b[1;32m/Users/danielrosenthal/Documents/GitHub/frolf/image_tracking.ipynb Cell 11\u001b[0m in \u001b[0;36m<cell line: 1>\u001b[0;34m()\u001b[0m\n\u001b[1;32m     <a href='vscode-notebook-cell:/Users/danielrosenthal/Documents/GitHub/frolf/image_tracking.ipynb#X13sZmlsZQ%3D%3D?line=30'>31</a>\u001b[0m         \u001b[39m#drawing rectangle around detected objects\u001b[39;00m\n\u001b[1;32m     <a href='vscode-notebook-cell:/Users/danielrosenthal/Documents/GitHub/frolf/image_tracking.ipynb#X13sZmlsZQ%3D%3D?line=31'>32</a>\u001b[0m         x, y, w, h \u001b[39m=\u001b[39m cv2\u001b[39m.\u001b[39mboundingRect(cnt)\n\u001b[0;32m---> <a href='vscode-notebook-cell:/Users/danielrosenthal/Documents/GitHub/frolf/image_tracking.ipynb#X13sZmlsZQ%3D%3D?line=32'>33</a>\u001b[0m         rect_coordinates \u001b[39m=\u001b[39m np\u001b[39m.\u001b[39mappend(rect_coordinates,[x,y,w,h])\n\u001b[1;32m     <a href='vscode-notebook-cell:/Users/danielrosenthal/Documents/GitHub/frolf/image_tracking.ipynb#X13sZmlsZQ%3D%3D?line=33'>34</a>\u001b[0m         cv2\u001b[39m.\u001b[39mrectangle(frame, (x, y), (x \u001b[39m+\u001b[39m w, y \u001b[39m+\u001b[39m h), (\u001b[39m0\u001b[39m,\u001b[39m255\u001b[39m,\u001b[39m0\u001b[39m),\u001b[39m3\u001b[39m)\n\u001b[1;32m     <a href='vscode-notebook-cell:/Users/danielrosenthal/Documents/GitHub/frolf/image_tracking.ipynb#X13sZmlsZQ%3D%3D?line=35'>36</a>\u001b[0m \u001b[39m#this is not working\u001b[39;00m\n\u001b[1;32m     <a href='vscode-notebook-cell:/Users/danielrosenthal/Documents/GitHub/frolf/image_tracking.ipynb#X13sZmlsZQ%3D%3D?line=36'>37</a>\u001b[0m \u001b[39m# disc_length_pixels = w\u001b[39;00m\n\u001b[1;32m     <a href='vscode-notebook-cell:/Users/danielrosenthal/Documents/GitHub/frolf/image_tracking.ipynb#X13sZmlsZQ%3D%3D?line=37'>38</a>\u001b[0m \u001b[39m# conversion_rate = (1/ppi) * (disc_length / disc_length_pixels)\u001b[39;00m\n\u001b[1;32m     <a href='vscode-notebook-cell:/Users/danielrosenthal/Documents/GitHub/frolf/image_tracking.ipynb#X13sZmlsZQ%3D%3D?line=38'>39</a>\u001b[0m \n\u001b[1;32m     <a href='vscode-notebook-cell:/Users/danielrosenthal/Documents/GitHub/frolf/image_tracking.ipynb#X13sZmlsZQ%3D%3D?line=39'>40</a>\u001b[0m \u001b[39m# Check if previous position and time are available\u001b[39;00m\n",
      "\u001b[0;31mNameError\u001b[0m: name 'rect_coordinates' is not defined"
     ]
    }
   ],
   "source": [
    "while True:\n",
    "    # Get current time\n",
    "    current_time = time.time()\n",
    "\n",
    "    ret, frame = cap.read()\n",
    "    if not ret:\n",
    "        break\n",
    "    #regions of interest\n",
    "    height, width, _ = frame.shape\n",
    "    roi = frame[200:900, 100:1800]\n",
    "    \n",
    "    #object detection\n",
    "    mask = object_detector.apply(frame)\n",
    "\n",
    "    #cleaning mask\n",
    "    _, mask = cv2.threshold(mask, 254, 255, cv2.THRESH_BINARY)\n",
    "    contours, _ = cv2.findContours(mask, cv2.RETR_TREE, cv2.CHAIN_APPROX_SIMPLE)\n",
    "\n",
    "    #trying rgb threshold\n",
    "    mask = cv2.cvtColor(frame,cv2.COLOR_BGR2HSV) \n",
    "    mask_rgb = cv2.inRange(mask,lower_color_bound,upper_color_bound)\n",
    "    rgb_contours, _ = cv2.findContours(mask_rgb, cv2.RETR_TREE, cv2.CHAIN_APPROX_SIMPLE)\n",
    "       \n",
    "    \n",
    "\n",
    "    for cnt in rgb_contours:\n",
    "        #calculate error, remove small elements\n",
    "        area = cv2.contourArea(cnt)\n",
    "        if area > 500:\n",
    "            cv2.drawContours(frame, [cnt], -1, (0,255,0), 2)\n",
    "            #drawing rectangle around detected objects\n",
    "            x, y, w, h = cv2.boundingRect(cnt)\n",
    "            rect_coordinates = np.append(rect_coordinates,[x,y,w,h])\n",
    "            cv2.rectangle(frame, (x, y), (x + w, y + h), (0,255,0),3)\n",
    "            \n",
    "    #this is not working\n",
    "    # disc_length_pixels = w\n",
    "    # conversion_rate = (1/ppi) * (disc_length / disc_length_pixels)\n",
    "\n",
    "    # Check if previous position and time are available\n",
    "    if prev_x is not None and prev_y is not None and prev_time is not None:\n",
    "        # Calculate the distance traveled in the x and y directions\n",
    "        dx = x - prev_x\n",
    "        dy = y - prev_y\n",
    "\n",
    "        # Calculate the time interval\n",
    "        dt = current_time - prev_time\n",
    "\n",
    "        # Calculate the velocity in the x and y directions\n",
    "        vx = (dx / dt) \n",
    "        vy = (dy / dt)\n",
    "        \n",
    "        # Add the velocity values to the DataFrame\n",
    "        velocities = pd.concat([velocities, new_data])\n",
    "\n",
    "        vx_mph = vx * conversion_rate * 0.44704\n",
    "        vy_mph = vy * conversion_rate * 0.44704\n",
    "\n",
    "        # Display the velocity values on the output video\n",
    "        cv2.putText(frame, 'X Velocity: {:.2f} mph'.format(vx_mph), (10, 30), cv2.FONT_HERSHEY_SIMPLEX, 1, (255, 255, 255), 2)\n",
    "        cv2.putText(frame, 'Y Velocity: {:.2f} mph'.format(vy_mph), (10, 60), cv2.FONT_HERSHEY_SIMPLEX, 1, (255, 255, 255), 2)\n",
    "\n",
    "        # create a new dataframe with the new velocities\n",
    "        new_data = pd.DataFrame({'x_velocity': [vx_mph], 'y_velocity': [vy_mph]})\n",
    "\n",
    "    # Update the previous position and time variables\n",
    "    prev_x, prev_y = x, y\n",
    "    prev_time = current_time\n",
    "    \n",
    "    cv2.imshow(\"frame\", frame)\n",
    "    #cv2.imshow(\"roi\", roi)\n",
    "    #cv2.imshow(\"Mask\", mask)\n",
    "    #cv2.imshow(\"maskrgb\",mask_rgb)\n",
    "    \n",
    "    #output.write(roi)\n",
    "    #output2.write(mask)\n",
    "    if cv2.waitKey(120) & 0xFF == ord('q'):\n",
    "        break\n",
    "\n",
    "\n",
    "cap.release()\n",
    "output.release()\n",
    "#output2.release()\n",
    "cv2.destroyAllWindows()"
   ]
  },
  {
   "cell_type": "code",
   "execution_count": null,
   "metadata": {},
   "outputs": [
    {
     "name": "stdout",
     "output_type": "stream",
     "text": [
      "    x_velocity  y_velocity\n",
      "0     0.000000    0.000000\n",
      "0     0.000000    0.000000\n",
      "0     0.000000    0.000000\n",
      "0     0.000000    0.000000\n",
      "0     0.000000    0.000000\n",
      "0     0.000000    0.000000\n",
      "0     0.000000    0.000000\n",
      "0     0.000000    0.000000\n",
      "0 -1259.184717 -145.914109\n",
      "0     0.000000    5.223240\n",
      "0     0.000000   17.511819\n",
      "0     0.000000   21.445986\n",
      "0    30.133716   20.962585\n",
      "0    40.105727   18.799559\n",
      "0    46.382567   16.370318\n",
      "0    50.600780    6.746771\n",
      "0    52.394119    2.041329\n",
      "0    53.083499    0.663544\n",
      "0    53.207474    1.297743\n",
      "0    55.219961    1.972141\n",
      "0    57.532417    0.000000\n",
      "0    54.910174    0.661568\n",
      "0    54.452693    0.000000\n",
      "0    53.674611    1.277967\n",
      "0    55.376448    1.318487\n",
      "0    54.585910    1.269440\n",
      "0    55.432760    0.000000\n",
      "0    52.859333    1.258556\n",
      "0    57.401440    1.304578\n",
      "0    56.990934    0.647624\n",
      "0    55.340915    0.628874\n",
      "0    59.293481    1.363069\n",
      "0    57.363936    1.318711\n",
      "0    53.430635    1.242573\n",
      "0    56.578765   16.716453\n",
      "0     0.000000    0.000000\n",
      "0     0.000000    0.000000\n",
      "0     0.000000    0.000000\n",
      "0     0.000000    0.000000\n",
      "0     0.000000    0.000000\n",
      "0     0.000000    0.000000\n",
      "0     0.000000    0.000000\n",
      "0     0.000000    0.000000\n",
      "0     0.000000    0.000000\n",
      "0     0.000000    0.000000\n",
      "0     0.000000    0.000000\n",
      "0     0.000000    0.000000\n"
     ]
    }
   ],
   "source": [
    "velocities.to_csv(\"velocities.csv\", index=False)\n",
    "print(velocities)"
   ]
  }
 ],
 "metadata": {
  "kernelspec": {
   "display_name": "Python 3.10.5 64-bit",
   "language": "python",
   "name": "python3"
  },
  "language_info": {
   "codemirror_mode": {
    "name": "ipython",
    "version": 3
   },
   "file_extension": ".py",
   "mimetype": "text/x-python",
   "name": "python",
   "nbconvert_exporter": "python",
   "pygments_lexer": "ipython3",
   "version": "3.10.5"
  },
  "orig_nbformat": 4,
  "vscode": {
   "interpreter": {
    "hash": "aee8b7b246df8f9039afb4144a1f6fd8d2ca17a180786b69acc140d282b71a49"
   }
  }
 },
 "nbformat": 4,
 "nbformat_minor": 2
}
