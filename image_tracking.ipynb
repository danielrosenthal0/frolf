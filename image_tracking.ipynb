{
 "cells": [
  {
   "cell_type": "code",
   "execution_count": 70,
   "metadata": {},
   "outputs": [],
   "source": [
    "#import packages\n",
    "import numpy as np\n",
    "import cv2"
   ]
  },
  {
   "cell_type": "code",
   "execution_count": 71,
   "metadata": {},
   "outputs": [],
   "source": [
    "#open video\n",
    "cap = cv2.VideoCapture('/Users/danielrosenthal/Documents/EGR_314/Matt_side3_720.mov')\n",
    "if cap.isOpened() == False:\n",
    "    print(\"Cannot open video file.\")"
   ]
  },
  {
   "cell_type": "code",
   "execution_count": 72,
   "metadata": {},
   "outputs": [],
   "source": [
    "#object detection parameters\n",
    "object_detector = cv2.createBackgroundSubtractorMOG2(history = 100, varThreshold= 50)"
   ]
  },
  {
   "cell_type": "code",
   "execution_count": 73,
   "metadata": {},
   "outputs": [],
   "source": [
    "#ellipse detection parameters\n",
    "params = cv2.SimpleBlobDetector_Params()\n",
    "\n",
    "#area filtering\n",
    "params.filterByArea = True\n",
    "params.minArea = 100\n",
    "\n",
    "#circle filtering\n",
    "params.filterByCircularity = True\n",
    "params.minCircularity = 0.9\n",
    "\n",
    "#convexity parameters\n",
    "params.filterByConvexity = True\n",
    "params.minConvexity = 0.2\n",
    "\n",
    "#inertia parameters\n",
    "params.filterByInertia = True\n",
    "params.minInertiaRatio = 0.01\n",
    "\n",
    "#create detector\n",
    "detector = cv2.SimpleBlobDetector_create(params)\n",
    "\n"
   ]
  },
  {
   "cell_type": "code",
   "execution_count": 74,
   "metadata": {},
   "outputs": [
    {
     "ename": "",
     "evalue": "",
     "output_type": "error",
     "traceback": [
      "\u001b[1;31mThe Kernel crashed while executing code in the the current cell or a previous cell. Please review the code in the cell(s) to identify a possible cause of the failure. Click <a href='https://aka.ms/vscodeJupyterKernelCrash'>here</a> for more info. View Jupyter <a href='command:jupyter.viewOutput'>log</a> for further details."
     ]
    }
   ],
   "source": [
    "while True:\n",
    "    ret, frame = cap.read()\n",
    "    \n",
    "    #region of interest\n",
    "    height, width, _ = frame.shape\n",
    "    #print(height, width)\n",
    "    roi = frame[100:720, 500:1250]\n",
    "    \n",
    "    #object detection\n",
    "    mask = object_detector.apply(roi)\n",
    "    #cleaning mask\n",
    "    _, mask = cv2.threshold(mask, 254, 255, cv2.THRESH_BINARY)\n",
    "    contours, _ = cv2.findContours(mask, cv2.RETR_TREE, cv2.CHAIN_APPROX_SIMPLE)\n",
    "    for cnt in contours:\n",
    "        #calculate error, remove small elements\n",
    "        area = cv2.contourArea(cnt)\n",
    "        if area > 100:\n",
    "            #cv2.drawContours(roi, [cnt], -1, (0,255,0), 2)\n",
    "            #drawing rectangle around detected objects\n",
    "            x, y, w, h = cv2.boundingRect(cnt)\n",
    "            cv2.rectangle(roi, (x, y), (x + w, y + h), (0,255,0),3)\n",
    "    \n",
    "    keypoints = detector.detect(roi)\n",
    "    blank = np.zeros((1, 1))\n",
    "    blobs = cv2.drawKeypoints(roi, keypoints, blank, (0, 0, 255),\n",
    "                          cv2.DRAW_MATCHES_FLAGS_DRAW_RICH_KEYPOINTS)\n",
    "    number_of_blobs = len(keypoints)\n",
    "    text = \"Number of Circular Blobs: \" + str(len(keypoints))\n",
    "    cv2.putText(blobs, text, (20, 550),\n",
    "            cv2.FONT_HERSHEY_SIMPLEX, 1, (0, 100, 255), 2)\n",
    "\n",
    "    cv2.imshow(\"roi\", roi)\n",
    "    cv2.imshow(\"Frame\",frame)\n",
    "    cv2.imshow(\"Mask\", mask)\n",
    "    cv2.imshow(\"Filtering Circular Blobs Only\", blobs)\n",
    "\n",
    "    key = cv2.waitKey(120)\n",
    "    if key == 27:\n",
    "        break\n",
    "\n",
    "cap.release()\n",
    "cv2.destroyAllWindows()"
   ]
  }
 ],
 "metadata": {
  "kernelspec": {
   "display_name": "Python 3.10.5 64-bit",
   "language": "python",
   "name": "python3"
  },
  "language_info": {
   "codemirror_mode": {
    "name": "ipython",
    "version": 3
   },
   "file_extension": ".py",
   "mimetype": "text/x-python",
   "name": "python",
   "nbconvert_exporter": "python",
   "pygments_lexer": "ipython3",
   "version": "3.10.5"
  },
  "orig_nbformat": 4,
  "vscode": {
   "interpreter": {
    "hash": "aee8b7b246df8f9039afb4144a1f6fd8d2ca17a180786b69acc140d282b71a49"
   }
  }
 },
 "nbformat": 4,
 "nbformat_minor": 2
}
