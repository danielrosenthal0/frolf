{
 "cells": [
  {
   "cell_type": "code",
   "execution_count": 398,
   "metadata": {},
   "outputs": [
    {
     "data": {
      "text/plain": [
       "0"
      ]
     },
     "execution_count": 398,
     "metadata": {},
     "output_type": "execute_result"
    }
   ],
   "source": [
    "#import packages\n",
    "import numpy as np\n",
    "import cv2\n",
    "import time\n",
    "cv2.startWindowThread()\n"
   ]
  },
  {
   "cell_type": "code",
   "execution_count": 399,
   "metadata": {},
   "outputs": [],
   "source": [
    "#open video\n",
    "cap = cv2.VideoCapture('/Users/danielrosenthal/Documents/EGR_314/Daniel_7_top_trim.mp4')\n",
    "fps = cap.get(cv2.CAP_PROP_FPS) #get fps\n",
    "\n",
    "if cap.isOpened() == False:\n",
    "    print(\"Cannot open video file.\")"
   ]
  },
  {
   "cell_type": "code",
   "execution_count": 400,
   "metadata": {},
   "outputs": [],
   "source": [
    "#saving output\n",
    "frame_width = int(cap.get(3))\n",
    "frame_height = int(cap.get(4))\n",
    "size = (frame_width, frame_height)\n",
    "#print(size)\n",
    "output = cv2.VideoWriter('output.mp4', cv2.VideoWriter_fourcc(*'mp4v'), 20.0, (1700,700))\n",
    "#output2 = cv2.VideoWriter('output2.mp4', cv2.VideoWriter_fourcc(*'MP4V'), 20.0, (1920,1080))"
   ]
  },
  {
   "cell_type": "code",
   "execution_count": 401,
   "metadata": {},
   "outputs": [],
   "source": [
    "#object detection parameters\n",
    "object_detector = cv2.createBackgroundSubtractorMOG2(history = 100, varThreshold= 90)"
   ]
  },
  {
   "cell_type": "code",
   "execution_count": 402,
   "metadata": {},
   "outputs": [
    {
     "name": "stdout",
     "output_type": "stream",
     "text": [
      "[]\n"
     ]
    }
   ],
   "source": [
    "#creating empty array\n",
    "rect_coordinates = np.array([[],[],[],[]],dtype=np.uint8)\n",
    "print(rect_coordinates)\n",
    "prev_x, prev_y = None, None\n",
    "prev_time = None\n",
    "#defining rgb range\n",
    "\n",
    "lower_color_bound = np.array([0,100,178])\n",
    "upper_color_bound = np.array([255,255,255])\n"
   ]
  },
  {
   "cell_type": "code",
   "execution_count": 403,
   "metadata": {},
   "outputs": [
    {
     "name": "stdout",
     "output_type": "stream",
     "text": [
      "Velocity in x: 0.0 Velocity in y: 0.0\n",
      "Velocity in x: 0.0 Velocity in y: 0.0\n",
      "Velocity in x: 0.0 Velocity in y: 0.0\n",
      "Velocity in x: 0.0 Velocity in y: 0.0\n",
      "Velocity in x: 0.0 Velocity in y: 0.0\n",
      "Velocity in x: 0.0 Velocity in y: 0.0\n",
      "Velocity in x: 0.0 Velocity in y: 0.0\n",
      "Velocity in x: 0.0 Velocity in y: 0.0\n",
      "Velocity in x: 0.0 Velocity in y: 0.0\n",
      "Velocity in x: 0.0 Velocity in y: 0.0\n",
      "Velocity in x: -11492.201926142207 Velocity in y: -671.9783942493652\n",
      "Velocity in x: 0.0 Velocity in y: -209.16405272107994\n",
      "Velocity in x: 65.89616371983121 Velocity in y: 197.6884911594936\n",
      "Velocity in x: 451.90223374285813 Velocity in y: 159.4949060268911\n",
      "Velocity in x: 484.74343821606385 Velocity in y: 64.63245842880852\n",
      "Velocity in x: 508.86509209510456 Velocity in y: 19.825912679030047\n",
      "Velocity in x: 532.6379318281752 Velocity in y: 6.657974147852189\n",
      "Velocity in x: 563.7015667075867 Velocity in y: 13.748818700185042\n",
      "Velocity in x: 553.2643996199779 Velocity in y: 19.75944284357064\n",
      "Velocity in x: 531.8655193402475 Velocity in y: 0.0\n",
      "Velocity in x: 524.7787946256966 Velocity in y: 6.32263607982767\n",
      "Velocity in x: 534.7417232414023 Velocity in y: 0.0\n",
      "Velocity in x: 552.9700287533117 Velocity in y: 13.165953065555039\n",
      "Velocity in x: 514.6588252823293 Velocity in y: 12.253781554341174\n",
      "Velocity in x: 546.3401299547128 Velocity in y: 12.70558441755146\n",
      "Velocity in x: 567.4844547928826 Velocity in y: 0.0\n",
      "Velocity in x: 555.2769138388361 Velocity in y: 13.220878900924669\n",
      "Velocity in x: 575.9617501431717 Velocity in y: 13.090039775981175\n",
      "Velocity in x: 597.7772393643554 Velocity in y: 6.792923174594948\n",
      "Velocity in x: 591.278890423204 Velocity in y: 6.719078300263681\n",
      "Velocity in x: 563.6608437354704 Velocity in y: 12.957720545642996\n",
      "Velocity in x: 569.1076830940116 Velocity in y: 13.082935243540495\n",
      "Velocity in x: 555.0420062811693 Velocity in y: 245.25111905447014\n",
      "Velocity in x: 0.0 Velocity in y: 0.0\n",
      "Velocity in x: 0.0 Velocity in y: 0.0\n",
      "Velocity in x: 0.0 Velocity in y: 0.0\n",
      "Velocity in x: 0.0 Velocity in y: 0.0\n",
      "Velocity in x: 0.0 Velocity in y: 0.0\n",
      "Velocity in x: 0.0 Velocity in y: 0.0\n",
      "Velocity in x: 0.0 Velocity in y: 0.0\n",
      "Velocity in x: 0.0 Velocity in y: 0.0\n",
      "Velocity in x: 0.0 Velocity in y: 0.0\n",
      "Velocity in x: 0.0 Velocity in y: 0.0\n",
      "Velocity in x: 0.0 Velocity in y: 0.0\n",
      "Velocity in x: 0.0 Velocity in y: 0.0\n",
      "Velocity in x: 0.0 Velocity in y: 0.0\n",
      "Velocity in x: 0.0 Velocity in y: 0.0\n"
     ]
    },
    {
     "ename": "AttributeError",
     "evalue": "'NoneType' object has no attribute 'shape'",
     "output_type": "error",
     "traceback": [
      "\u001b[0;31m---------------------------------------------------------------------------\u001b[0m",
      "\u001b[0;31mAttributeError\u001b[0m                            Traceback (most recent call last)",
      "\u001b[1;32m/Users/danielrosenthal/Documents/GitHub/frolf/image_tracking.ipynb Cell 6\u001b[0m in \u001b[0;36m<cell line: 1>\u001b[0;34m()\u001b[0m\n\u001b[1;32m      <a href='vscode-notebook-cell:/Users/danielrosenthal/Documents/GitHub/frolf/image_tracking.ipynb#W5sZmlsZQ%3D%3D?line=4'>5</a>\u001b[0m ret, frame \u001b[39m=\u001b[39m cap\u001b[39m.\u001b[39mread()\n\u001b[1;32m      <a href='vscode-notebook-cell:/Users/danielrosenthal/Documents/GitHub/frolf/image_tracking.ipynb#W5sZmlsZQ%3D%3D?line=6'>7</a>\u001b[0m \u001b[39m#regions of interest\u001b[39;00m\n\u001b[0;32m----> <a href='vscode-notebook-cell:/Users/danielrosenthal/Documents/GitHub/frolf/image_tracking.ipynb#W5sZmlsZQ%3D%3D?line=7'>8</a>\u001b[0m height, width, _ \u001b[39m=\u001b[39m frame\u001b[39m.\u001b[39;49mshape\n\u001b[1;32m      <a href='vscode-notebook-cell:/Users/danielrosenthal/Documents/GitHub/frolf/image_tracking.ipynb#W5sZmlsZQ%3D%3D?line=8'>9</a>\u001b[0m roi \u001b[39m=\u001b[39m frame[\u001b[39m200\u001b[39m:\u001b[39m900\u001b[39m, \u001b[39m100\u001b[39m:\u001b[39m1800\u001b[39m]\n\u001b[1;32m     <a href='vscode-notebook-cell:/Users/danielrosenthal/Documents/GitHub/frolf/image_tracking.ipynb#W5sZmlsZQ%3D%3D?line=10'>11</a>\u001b[0m \u001b[39m#object detection\u001b[39;00m\n",
      "\u001b[0;31mAttributeError\u001b[0m: 'NoneType' object has no attribute 'shape'"
     ]
    }
   ],
   "source": [
    "while True:\n",
    "    # Get current time\n",
    "    current_time = time.time()\n",
    "\n",
    "    ret, frame = cap.read()\n",
    "    \n",
    "    #regions of interest\n",
    "    height, width, _ = frame.shape\n",
    "    roi = frame[200:900, 100:1800]\n",
    "    \n",
    "    #object detection\n",
    "    mask = object_detector.apply(roi)\n",
    "\n",
    "    #cleaning mask\n",
    "    _, mask = cv2.threshold(mask, 254, 255, cv2.THRESH_BINARY)\n",
    "    contours, _ = cv2.findContours(mask, cv2.RETR_TREE, cv2.CHAIN_APPROX_SIMPLE)\n",
    "\n",
    "    #trying rgb threshold\n",
    "    mask = cv2.cvtColor(roi,cv2.COLOR_BGR2HSV) \n",
    "    mask_rgb = cv2.inRange(mask,lower_color_bound,upper_color_bound)\n",
    "    rgb_contours, _ = cv2.findContours(mask_rgb, cv2.RETR_TREE, cv2.CHAIN_APPROX_SIMPLE)\n",
    "       \n",
    "    \n",
    "\n",
    "    for cnt in rgb_contours:\n",
    "        #calculate error, remove small elements\n",
    "        area = cv2.contourArea(cnt)\n",
    "        if area > 500:\n",
    "            cv2.drawContours(roi, [cnt], -1, (0,255,0), 2)\n",
    "            #drawing rectangle around detected objects\n",
    "            x, y, w, h = cv2.boundingRect(cnt)\n",
    "            #print(x,y,w,h)\n",
    "            rect_coordinates = np.append(rect_coordinates,[x,y,w,h])\n",
    "            #rect_coordinates[y:y+h, x:x+w] = 1\n",
    "            #cv2.rectangle(roi, (x, y), (x + w, y + h), (0,255,0),3)\n",
    "    #print(rect_coordinates)\n",
    "    \n",
    "    # Check if previous position and time are available\n",
    "    if prev_x is not None and prev_y is not None and prev_time is not None:\n",
    "        # Calculate the distance traveled in the x and y directions\n",
    "        dx = x - prev_x\n",
    "        dy = y - prev_y\n",
    "\n",
    "        # Calculate the time interval\n",
    "        dt = current_time - prev_time\n",
    "\n",
    "        # Calculate the velocity in the x and y directions\n",
    "        vx = dx / dt\n",
    "        vy = dy / dt\n",
    "\n",
    "        # Print the velocity values\n",
    "        print(\"Velocity in x:\", vx, \"Velocity in y:\", vy)\n",
    "\n",
    "    # Update the previous position and time variables\n",
    "    prev_x, prev_y = x, y\n",
    "    prev_time = current_time\n",
    "\n",
    "    cv2.imshow(\"roi\", roi)\n",
    "    cv2.imshow(\"Mask\", mask)\n",
    "    cv2.imshow(\"maskrgb\",mask_rgb)\n",
    "    \n",
    "    #output.write(roi)\n",
    "    #output2.write(mask)\n",
    "    if cv2.waitKey(120) & 0xFF == ord('q'):\n",
    "        break\n",
    "\n",
    "#print(height, width)\n",
    "cap.release()\n",
    "output.release()\n",
    "#output2.release()\n",
    "cv2.destroyAllWindows()\n",
    "#cv2.waitKey(1)"
   ]
  }
 ],
 "metadata": {
  "kernelspec": {
   "display_name": "Python 3.10.5 64-bit",
   "language": "python",
   "name": "python3"
  },
  "language_info": {
   "codemirror_mode": {
    "name": "ipython",
    "version": 3
   },
   "file_extension": ".py",
   "mimetype": "text/x-python",
   "name": "python",
   "nbconvert_exporter": "python",
   "pygments_lexer": "ipython3",
   "version": "3.10.5"
  },
  "orig_nbformat": 4,
  "vscode": {
   "interpreter": {
    "hash": "aee8b7b246df8f9039afb4144a1f6fd8d2ca17a180786b69acc140d282b71a49"
   }
  }
 },
 "nbformat": 4,
 "nbformat_minor": 2
}
