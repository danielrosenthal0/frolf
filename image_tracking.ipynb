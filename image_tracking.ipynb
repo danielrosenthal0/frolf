{
 "cells": [
  {
   "cell_type": "code",
   "execution_count": 529,
   "metadata": {},
   "outputs": [
    {
     "data": {
      "text/plain": [
       "0"
      ]
     },
     "execution_count": 529,
     "metadata": {},
     "output_type": "execute_result"
    }
   ],
   "source": [
    "#import packages\n",
    "import numpy as np\n",
    "import pandas as pd\n",
    "import cv2\n",
    "import time\n",
    "cv2.startWindowThread()\n"
   ]
  },
  {
   "cell_type": "code",
   "execution_count": 530,
   "metadata": {},
   "outputs": [],
   "source": [
    "#open video\n",
    "cap = cv2.VideoCapture('/Users/danielrosenthal/Documents/EGR_314/Daniel_7_top_trim.mp4')\n",
    "fps = cap.get(cv2.CAP_PROP_FPS) #get fps\n",
    "\n",
    "if cap.isOpened() == False:\n",
    "    print(\"Cannot open video file.\")"
   ]
  },
  {
   "cell_type": "code",
   "execution_count": 531,
   "metadata": {},
   "outputs": [],
   "source": [
    "#saving output\n",
    "frame_width = int(cap.get(3))\n",
    "frame_height = int(cap.get(4))\n",
    "size = (frame_width, frame_height)\n",
    "#print(size)\n",
    "output = cv2.VideoWriter('output.mp4', cv2.VideoWriter_fourcc(*'mp4v'), 20.0, (1700,700))\n",
    "#output2 = cv2.VideoWriter('output2.mp4', cv2.VideoWriter_fourcc(*'MP4V'), 20.0, (1920,1080))"
   ]
  },
  {
   "cell_type": "code",
   "execution_count": 532,
   "metadata": {},
   "outputs": [],
   "source": [
    "#object detection parameters\n",
    "object_detector = cv2.createBackgroundSubtractorMOG2(history = 100, varThreshold= 90)"
   ]
  },
  {
   "cell_type": "code",
   "execution_count": 533,
   "metadata": {},
   "outputs": [],
   "source": [
    "#creating empty array\n",
    "# Create an empty DataFrame with columns for x and y velocities\n",
    "velocities = pd.DataFrame(columns=['x_velocity', 'y_velocity'])\n",
    "prev_x, prev_y = None, None\n",
    "prev_time = None\n"
   ]
  },
  {
   "cell_type": "code",
   "execution_count": 534,
   "metadata": {},
   "outputs": [],
   "source": [
    "#defining rgb range\n",
    "\n",
    "lower_color_bound = np.array([0,100,178])\n",
    "upper_color_bound = np.array([255,255,255])"
   ]
  },
  {
   "cell_type": "code",
   "execution_count": 535,
   "metadata": {},
   "outputs": [
    {
     "name": "stdout",
     "output_type": "stream",
     "text": [
      "175.70482914340297\n",
      "36.661356887239556\n",
      "0.22530535422912829\n"
     ]
    }
   ],
   "source": [
    "#conversion factor\n",
    "disc_length = 8.26 #disc length in inches\n",
    "distance = 36 #distance of disc from camera, rough guess\n",
    "\n",
    "# Approximate field of view (in degrees)\n",
    "fov = 2 * np.arctan(frame_width / (2 * distance)) * 180 / np.pi\n",
    "print(fov)\n",
    "\n",
    "# Width of the object in pixels\n",
    "object_width_pixels = abs((disc_length/2) / (np.tan(fov/2)))\n",
    "print (object_width_pixels)\n",
    "#calculate conversion rate\n",
    "conversion_rate = disc_length / object_width_pixels\n",
    "print(conversion_rate)\n",
    "\n"
   ]
  },
  {
   "cell_type": "code",
   "execution_count": 536,
   "metadata": {},
   "outputs": [],
   "source": [
    "while True:\n",
    "    # Get current time\n",
    "    current_time = time.time()\n",
    "\n",
    "    ret, frame = cap.read()\n",
    "    if not ret:\n",
    "        break\n",
    "    #regions of interest\n",
    "    height, width, _ = frame.shape\n",
    "    roi = frame[200:900, 100:1800]\n",
    "    \n",
    "    #object detection\n",
    "    mask = object_detector.apply(roi)\n",
    "\n",
    "    #cleaning mask\n",
    "    _, mask = cv2.threshold(mask, 254, 255, cv2.THRESH_BINARY)\n",
    "    contours, _ = cv2.findContours(mask, cv2.RETR_TREE, cv2.CHAIN_APPROX_SIMPLE)\n",
    "\n",
    "    #trying rgb threshold\n",
    "    mask = cv2.cvtColor(roi,cv2.COLOR_BGR2HSV) \n",
    "    mask_rgb = cv2.inRange(mask,lower_color_bound,upper_color_bound)\n",
    "    rgb_contours, _ = cv2.findContours(mask_rgb, cv2.RETR_TREE, cv2.CHAIN_APPROX_SIMPLE)\n",
    "       \n",
    "    \n",
    "\n",
    "    for cnt in rgb_contours:\n",
    "        #calculate error, remove small elements\n",
    "        area = cv2.contourArea(cnt)\n",
    "        if area > 500:\n",
    "            cv2.drawContours(roi, [cnt], -1, (0,255,0), 2)\n",
    "            #drawing rectangle around detected objects\n",
    "            x, y, w, h = cv2.boundingRect(cnt)\n",
    "            #print(x,y,w,h)\n",
    "            rect_coordinates = np.append(rect_coordinates,[x,y,w,h])\n",
    "            #rect_coordinates[y:y+h, x:x+w] = 1\n",
    "            cv2.rectangle(roi, (x, y), (x + w, y + h), (0,255,0),3)\n",
    "    #print(rect_coordinates)\n",
    "    \n",
    "    # Check if previous position and time are available\n",
    "    if prev_x is not None and prev_y is not None and prev_time is not None:\n",
    "        # Calculate the distance traveled in the x and y directions\n",
    "        dx = x - prev_x\n",
    "        dy = y - prev_y\n",
    "\n",
    "        # Calculate the time interval\n",
    "        dt = current_time - prev_time\n",
    "\n",
    "        # Calculate the velocity in the x and y directions\n",
    "        vx = dx / dt\n",
    "        vy = dy / dt\n",
    "\n",
    "        \n",
    "\n",
    "        # Add the velocity values to the DataFrame\n",
    "        velocities = pd.concat([velocities, new_data])\n",
    "\n",
    "        vx_mph = vx * conversion_rate * 0.44704\n",
    "        vy_mph = vy * conversion_rate * 0.44704\n",
    "\n",
    "        # create a new dataframe with the new velocities\n",
    "        new_data = pd.DataFrame({'x_velocity': [vx_mph], 'y_velocity': [vy_mph]})\n",
    "        \n",
    "        # Print the velocity values\n",
    "        # print(\"Velocity in x:\", vx, \"pixels/s, Velocity in y:\", vy, \"pixels/s\")\n",
    "        #print(\"Velocity in x:\", vx_mph, \"mph, Velocity in y:\", vy_mph, \"mph\")\n",
    "\n",
    "    # Update the previous position and time variables\n",
    "    prev_x, prev_y = x, y\n",
    "    prev_time = current_time\n",
    "    \n",
    "    cv2.imshow(\"roi\", roi)\n",
    "    cv2.imshow(\"Mask\", mask)\n",
    "    cv2.imshow(\"maskrgb\",mask_rgb)\n",
    "    \n",
    "    #output.write(roi)\n",
    "    #output2.write(mask)\n",
    "    if cv2.waitKey(120) & 0xFF == ord('q'):\n",
    "        break\n",
    "\n",
    "\n",
    "cap.release()\n",
    "output.release()\n",
    "#output2.release()\n",
    "cv2.destroyAllWindows()"
   ]
  },
  {
   "cell_type": "code",
   "execution_count": 537,
   "metadata": {},
   "outputs": [
    {
     "name": "stdout",
     "output_type": "stream",
     "text": [
      "    x_velocity  y_velocity\n",
      "0    -0.000000   -0.000000\n",
      "0     0.000000    0.000000\n",
      "0     0.000000    0.000000\n",
      "0     0.000000    0.000000\n",
      "0     0.000000    0.000000\n",
      "0     0.000000    0.000000\n",
      "0     0.000000    0.000000\n",
      "0     0.000000    0.000000\n",
      "0     0.000000    0.000000\n",
      "0     0.000000    0.000000\n",
      "0     0.000000    0.000000\n",
      "0 -1170.901779  -68.465617\n",
      "0     0.000000  -21.134738\n",
      "0     7.067755   21.203264\n",
      "0    47.454097   16.748505\n",
      "0    53.677197    7.156960\n",
      "0    53.313900    2.077165\n",
      "0    55.266607    0.690833\n",
      "0    57.932811    1.412995\n",
      "0    56.345682    2.012346\n",
      "0    59.008909    0.000000\n",
      "0    58.183824    0.701010\n",
      "0    58.011913    0.000000\n",
      "0    58.995359    1.404651\n",
      "0    58.356978    1.389452\n",
      "0    58.443740    1.359157\n",
      "0    59.469077    0.000000\n",
      "0    58.400004    1.390476\n",
      "0    63.751203    1.448891\n",
      "0    62.396463    0.709051\n",
      "0    59.965244    0.681423\n",
      "0    63.498582    1.459738\n",
      "0    62.371002    1.433816\n",
      "0    61.498279   27.173658\n",
      "0     0.000000    0.000000\n",
      "0     0.000000    0.000000\n",
      "0     0.000000    0.000000\n",
      "0     0.000000    0.000000\n",
      "0     0.000000    0.000000\n",
      "0     0.000000    0.000000\n",
      "0     0.000000    0.000000\n",
      "0     0.000000    0.000000\n",
      "0     0.000000    0.000000\n",
      "0     0.000000    0.000000\n",
      "0     0.000000    0.000000\n",
      "0     0.000000    0.000000\n",
      "0     0.000000    0.000000\n"
     ]
    }
   ],
   "source": [
    "velocities.to_csv(\"velocities.csv\", index=False)\n",
    "print(velocities)"
   ]
  }
 ],
 "metadata": {
  "kernelspec": {
   "display_name": "Python 3.10.5 64-bit",
   "language": "python",
   "name": "python3"
  },
  "language_info": {
   "codemirror_mode": {
    "name": "ipython",
    "version": 3
   },
   "file_extension": ".py",
   "mimetype": "text/x-python",
   "name": "python",
   "nbconvert_exporter": "python",
   "pygments_lexer": "ipython3",
   "version": "3.10.5"
  },
  "orig_nbformat": 4,
  "vscode": {
   "interpreter": {
    "hash": "aee8b7b246df8f9039afb4144a1f6fd8d2ca17a180786b69acc140d282b71a49"
   }
  }
 },
 "nbformat": 4,
 "nbformat_minor": 2
}
